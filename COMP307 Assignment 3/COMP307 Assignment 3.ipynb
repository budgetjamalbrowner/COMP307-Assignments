{
 "cells": [
  {
   "cell_type": "code",
   "execution_count": 1,
   "id": "ca59ef22",
   "metadata": {},
   "outputs": [],
   "source": [
    "# Daniel Luo 300539272"
   ]
  },
  {
   "cell_type": "markdown",
   "id": "d3f38961",
   "metadata": {},
   "source": [
    "## Part 1: Reasoning Under Uncertainty Basics"
   ]
  },
  {
   "cell_type": "markdown",
   "id": "9a4bedea",
   "metadata": {},
   "source": [
    "Question 1:"
   ]
  },
  {
   "cell_type": "markdown",
   "id": "d3af6567",
   "metadata": {},
   "source": [
    "1:   "
   ]
  },
  {
   "cell_type": "markdown",
   "id": "a3e7e02d",
   "metadata": {},
   "source": [
    "Using the product rule:\n",
    "$$P(A,B) = P(A|B) * P(B)$$\n",
    "$$P(A,B) = P(B|A) * P(A)$$\n",
    "if P(A,B) = P(B,A) then they are also communicative.\n",
    "$$P(A,B,C) = P(A,C,B) = P(B,C,A) ...$$"
   ]
  },
  {
   "cell_type": "markdown",
   "id": "7ea5aaba",
   "metadata": {},
   "source": [
    "And also the Chain rule: When the values are dependent:"
   ]
  },
  {
   "cell_type": "markdown",
   "id": "ab303253",
   "metadata": {},
   "source": [
    "$$P(Z,X,Y) = P(Z|X,Y) * P(X,Y)$$\n",
    "$$= P(Z|X,Y)*P(Y|X)*P(X)$$"
   ]
  },
  {
   "cell_type": "markdown",
   "id": "4e7d52c2",
   "metadata": {},
   "source": [
    "Since Z and X are conditionally independent given Y:\n",
    "$$P(Z|X,Y) = P(Z|Y)$$\n",
    "Therefore:\n",
    "$$P(Z, X, Y) = P(Z|Y) * P(Y|X) * P(X)$$"
   ]
  },
  {
   "cell_type": "markdown",
   "id": "67032c59",
   "metadata": {},
   "source": [
    "Therefore the table of P(X,Y,Z) = P(Z,X,Y), as shown below:"
   ]
  },
  {
   "cell_type": "code",
   "execution_count": 2,
   "id": "47b2adcd",
   "metadata": {},
   "outputs": [],
   "source": [
    "import numpy as np\n",
    "import pandas as pd"
   ]
  },
  {
   "cell_type": "code",
   "execution_count": 3,
   "id": "c741b2bf",
   "metadata": {},
   "outputs": [],
   "source": [
    "data = {\"X\": [0,0,0,1,1,1,0,1],\n",
    "       \"Y\": [0,1,0,0,1,0,1,1],\n",
    "       \"Z\": [0,0,1,0,0,1,1,1],\n",
    "       \"P(X, Y, Z)\": [0.35*0.7*0.1,0.35*0.9*0.2,0.35*0.1*0.3, 0.65*0.6*0.7, \n",
    "                     0.65*0.4*0.2, 0.65*0.6*0.3,0.35*0.9*0.8, 0.65*0.4*0.8],\n",
    "       \"Steps:\": ['= 0.35x0.1x0.7','= 0.35x0.9x0.2','= 0.35x0.1x0.3','= 0.65x0.6x0.7',\n",
    "                 '= 0.65x0.4x0.2','= 0.65x0.6x0.3','= 0.35x0.9x0.8','= 0.65x0.4x0.8']}"
   ]
  },
  {
   "cell_type": "code",
   "execution_count": 4,
   "id": "ca0073ba",
   "metadata": {},
   "outputs": [
    {
     "data": {
      "text/html": [
       "<div>\n",
       "<style scoped>\n",
       "    .dataframe tbody tr th:only-of-type {\n",
       "        vertical-align: middle;\n",
       "    }\n",
       "\n",
       "    .dataframe tbody tr th {\n",
       "        vertical-align: top;\n",
       "    }\n",
       "\n",
       "    .dataframe thead th {\n",
       "        text-align: right;\n",
       "    }\n",
       "</style>\n",
       "<table border=\"1\" class=\"dataframe\">\n",
       "  <thead>\n",
       "    <tr style=\"text-align: right;\">\n",
       "      <th></th>\n",
       "      <th>X</th>\n",
       "      <th>Y</th>\n",
       "      <th>Z</th>\n",
       "      <th>P(X, Y, Z)</th>\n",
       "      <th>Steps:</th>\n",
       "    </tr>\n",
       "  </thead>\n",
       "  <tbody>\n",
       "    <tr>\n",
       "      <th>0</th>\n",
       "      <td>0</td>\n",
       "      <td>0</td>\n",
       "      <td>0</td>\n",
       "      <td>0.0245</td>\n",
       "      <td>= 0.35x0.1x0.7</td>\n",
       "    </tr>\n",
       "    <tr>\n",
       "      <th>1</th>\n",
       "      <td>0</td>\n",
       "      <td>1</td>\n",
       "      <td>0</td>\n",
       "      <td>0.0630</td>\n",
       "      <td>= 0.35x0.9x0.2</td>\n",
       "    </tr>\n",
       "    <tr>\n",
       "      <th>2</th>\n",
       "      <td>0</td>\n",
       "      <td>0</td>\n",
       "      <td>1</td>\n",
       "      <td>0.0105</td>\n",
       "      <td>= 0.35x0.1x0.3</td>\n",
       "    </tr>\n",
       "    <tr>\n",
       "      <th>3</th>\n",
       "      <td>1</td>\n",
       "      <td>0</td>\n",
       "      <td>0</td>\n",
       "      <td>0.2730</td>\n",
       "      <td>= 0.65x0.6x0.7</td>\n",
       "    </tr>\n",
       "    <tr>\n",
       "      <th>4</th>\n",
       "      <td>1</td>\n",
       "      <td>1</td>\n",
       "      <td>0</td>\n",
       "      <td>0.0520</td>\n",
       "      <td>= 0.65x0.4x0.2</td>\n",
       "    </tr>\n",
       "    <tr>\n",
       "      <th>5</th>\n",
       "      <td>1</td>\n",
       "      <td>0</td>\n",
       "      <td>1</td>\n",
       "      <td>0.1170</td>\n",
       "      <td>= 0.65x0.6x0.3</td>\n",
       "    </tr>\n",
       "    <tr>\n",
       "      <th>6</th>\n",
       "      <td>0</td>\n",
       "      <td>1</td>\n",
       "      <td>1</td>\n",
       "      <td>0.2520</td>\n",
       "      <td>= 0.35x0.9x0.8</td>\n",
       "    </tr>\n",
       "    <tr>\n",
       "      <th>7</th>\n",
       "      <td>1</td>\n",
       "      <td>1</td>\n",
       "      <td>1</td>\n",
       "      <td>0.2080</td>\n",
       "      <td>= 0.65x0.4x0.8</td>\n",
       "    </tr>\n",
       "  </tbody>\n",
       "</table>\n",
       "</div>"
      ],
      "text/plain": [
       "   X  Y  Z  P(X, Y, Z)          Steps:\n",
       "0  0  0  0      0.0245  = 0.35x0.1x0.7\n",
       "1  0  1  0      0.0630  = 0.35x0.9x0.2\n",
       "2  0  0  1      0.0105  = 0.35x0.1x0.3\n",
       "3  1  0  0      0.2730  = 0.65x0.6x0.7\n",
       "4  1  1  0      0.0520  = 0.65x0.4x0.2\n",
       "5  1  0  1      0.1170  = 0.65x0.6x0.3\n",
       "6  0  1  1      0.2520  = 0.35x0.9x0.8\n",
       "7  1  1  1      0.2080  = 0.65x0.4x0.8"
      ]
     },
     "execution_count": 4,
     "metadata": {},
     "output_type": "execute_result"
    }
   ],
   "source": [
    "df = pd.DataFrame(data)\n",
    "df"
   ]
  },
  {
   "cell_type": "markdown",
   "id": "cb7f2bdc",
   "metadata": {},
   "source": [
    "2."
   ]
  },
  {
   "cell_type": "markdown",
   "id": "1d4cb2ab",
   "metadata": {},
   "source": [
    "Using the product rule when A and B are dependent (which they are):\n",
    "$$P(A,B) = P(A|B) * P(B)$$\n",
    "$$P(A,B) = P(B|A) * P(A)$$"
   ]
  },
  {
   "cell_type": "markdown",
   "id": "30a08ec3",
   "metadata": {},
   "source": [
    "X and Y are independent here as well."
   ]
  },
  {
   "cell_type": "code",
   "execution_count": 5,
   "id": "22973991",
   "metadata": {},
   "outputs": [],
   "source": [
    "data2 = {\"X\": [0,0,1,1], \n",
    "         \"Y\": [0,1,0,1], \n",
    "         \"P(X,Y)\": [0.1*0.35, 0.9*0.35, 0.6*0.65, 0.4*0.65],\n",
    "         \"Steps\": ['= 0.1x0.35', '= 0.9x0.35','= 0.6x0.65', '= 0.4x0.65']}"
   ]
  },
  {
   "cell_type": "code",
   "execution_count": 6,
   "id": "56f632fe",
   "metadata": {},
   "outputs": [
    {
     "data": {
      "text/html": [
       "<div>\n",
       "<style scoped>\n",
       "    .dataframe tbody tr th:only-of-type {\n",
       "        vertical-align: middle;\n",
       "    }\n",
       "\n",
       "    .dataframe tbody tr th {\n",
       "        vertical-align: top;\n",
       "    }\n",
       "\n",
       "    .dataframe thead th {\n",
       "        text-align: right;\n",
       "    }\n",
       "</style>\n",
       "<table border=\"1\" class=\"dataframe\">\n",
       "  <thead>\n",
       "    <tr style=\"text-align: right;\">\n",
       "      <th></th>\n",
       "      <th>X</th>\n",
       "      <th>Y</th>\n",
       "      <th>P(X,Y)</th>\n",
       "      <th>Steps</th>\n",
       "    </tr>\n",
       "  </thead>\n",
       "  <tbody>\n",
       "    <tr>\n",
       "      <th>0</th>\n",
       "      <td>0</td>\n",
       "      <td>0</td>\n",
       "      <td>0.035</td>\n",
       "      <td>= 0.1x0.35</td>\n",
       "    </tr>\n",
       "    <tr>\n",
       "      <th>1</th>\n",
       "      <td>0</td>\n",
       "      <td>1</td>\n",
       "      <td>0.315</td>\n",
       "      <td>= 0.9x0.35</td>\n",
       "    </tr>\n",
       "    <tr>\n",
       "      <th>2</th>\n",
       "      <td>1</td>\n",
       "      <td>0</td>\n",
       "      <td>0.390</td>\n",
       "      <td>= 0.6x0.65</td>\n",
       "    </tr>\n",
       "    <tr>\n",
       "      <th>3</th>\n",
       "      <td>1</td>\n",
       "      <td>1</td>\n",
       "      <td>0.260</td>\n",
       "      <td>= 0.4x0.65</td>\n",
       "    </tr>\n",
       "  </tbody>\n",
       "</table>\n",
       "</div>"
      ],
      "text/plain": [
       "   X  Y  P(X,Y)       Steps\n",
       "0  0  0   0.035  = 0.1x0.35\n",
       "1  0  1   0.315  = 0.9x0.35\n",
       "2  1  0   0.390  = 0.6x0.65\n",
       "3  1  1   0.260  = 0.4x0.65"
      ]
     },
     "execution_count": 6,
     "metadata": {},
     "output_type": "execute_result"
    }
   ],
   "source": [
    "df2 = pd.DataFrame(data2)\n",
    "df2"
   ]
  },
  {
   "cell_type": "markdown",
   "id": "c33322ad",
   "metadata": {},
   "source": [
    "3."
   ]
  },
  {
   "cell_type": "markdown",
   "id": "7965b188",
   "metadata": {},
   "source": [
    "a) P(Z=0) = 0.4125"
   ]
  },
  {
   "cell_type": "markdown",
   "id": "ea296a7c",
   "metadata": {},
   "source": [
    "Using the table above, P(Z=0) = 0.0245 + 0.0630 + 0.2730 + 0.0520"
   ]
  },
  {
   "cell_type": "markdown",
   "id": "bc51182c",
   "metadata": {},
   "source": [
    "b) P(X=0, Z=0) = 0.0875"
   ]
  },
  {
   "cell_type": "markdown",
   "id": "5b9de5ed",
   "metadata": {},
   "source": [
    "Using the table above, P(X=0, Z=0) = 0.0245 + 0.0630"
   ]
  },
  {
   "cell_type": "markdown",
   "id": "2ac300e5",
   "metadata": {},
   "source": [
    "c) P(X=1, Y=0 | Z=1) = 0.36"
   ]
  },
  {
   "cell_type": "markdown",
   "id": "92550d3c",
   "metadata": {},
   "source": [
    "d) P(X=0 | Y=0, Z=0) =0.0824"
   ]
  },
  {
   "cell_type": "markdown",
   "id": "be8b91a6",
   "metadata": {},
   "source": [
    "This is calculated by P(X, Y, Z) = P(X|Y, Z) x P(Y, Z). P(0,0,0) = 0.0245 = \n",
    "0.2975 * P(X|Y, Z)"
   ]
  },
  {
   "cell_type": "markdown",
   "id": "e6e8bf6c",
   "metadata": {},
   "source": [
    "Therefore: P(X=0|Y=0, Z=0) = 0.0245/0.2975 = 0.0824"
   ]
  },
  {
   "cell_type": "markdown",
   "id": "d92f9804",
   "metadata": {},
   "source": [
    "Question 2:"
   ]
  },
  {
   "cell_type": "markdown",
   "id": "c58d1dec",
   "metadata": {},
   "source": [
    "1. P(B = t, C = t) = 0.08"
   ]
  },
  {
   "cell_type": "markdown",
   "id": "5ef5d39c",
   "metadata": {},
   "source": [
    "We can use the product rule: P(B = t, C = t) = P(B = t | C = t) x P(C = t).\n",
    "Therefore, P(B = t, C = t) = 0.2 x 0.4 = 0.08."
   ]
  },
  {
   "cell_type": "markdown",
   "id": "fa79b035",
   "metadata": {},
   "source": [
    "2. P(A = f|B = t) = 0.7\n"
   ]
  },
  {
   "cell_type": "markdown",
   "id": "77fcf467",
   "metadata": {},
   "source": [
    "Via normalisation rule: Keeping B constant, P(A = t|B = t) and P(A = f|B = t) sums up to 1. Therefore P(A = f|B = t) = 1-0.3 = 0.7"
   ]
  },
  {
   "cell_type": "markdown",
   "id": "6915e5f7",
   "metadata": {},
   "source": [
    "3. P(A = t, B = t|C = t) = 0.1"
   ]
  },
  {
   "cell_type": "markdown",
   "id": "5a98a29b",
   "metadata": {},
   "source": [
    "We can use the definition of conditional probability and independence since A and B are conditionally independent given C:\n",
    "P(A = t, B = t | C = t) = P(A = t | B = t, C = t) x P(B = t | C = t).\n",
    "Therefore, P(A = t, B = t | C = t) = 0.5 x 0.2 = 0.1."
   ]
  },
  {
   "cell_type": "markdown",
   "id": "544cbed2",
   "metadata": {},
   "source": [
    "4. P(A = t|B = t, C = t) = 0.5"
   ]
  },
  {
   "cell_type": "markdown",
   "id": "89d5d410",
   "metadata": {},
   "source": [
    "Given that A and B are conditionally independent given C, P(A = t|B = t, C = t) = P(A = t|C = t) = 0.5"
   ]
  },
  {
   "cell_type": "markdown",
   "id": "2b37995c",
   "metadata": {},
   "source": [
    "5. P(A = t, B = t, C = t) = 0.04"
   ]
  },
  {
   "cell_type": "markdown",
   "id": "00f2611b",
   "metadata": {},
   "source": [
    "P(A = t, B = t, C = t) = P(A = t|B = t, c = t) x P(B = t, C = t) = 0.08 x 0.5 = 0.04"
   ]
  },
  {
   "cell_type": "markdown",
   "id": "7c92c033",
   "metadata": {},
   "source": [
    "## Part 2: Naive Bayes Method"
   ]
  },
  {
   "cell_type": "code",
   "execution_count": 7,
   "id": "6223a2f8",
   "metadata": {},
   "outputs": [],
   "source": [
    "import pandas as pd\n",
    "import numpy as np\n",
    "import io\n",
    "from collections import defaultdict"
   ]
  },
  {
   "cell_type": "code",
   "execution_count": 8,
   "id": "024063a6",
   "metadata": {},
   "outputs": [],
   "source": [
    "testData = pd.read_csv(\"breast-cancer-test.csv\")\n",
    "trainData = pd.read_csv(\"breast-cancer-training.csv\")"
   ]
  },
  {
   "cell_type": "code",
   "execution_count": 9,
   "id": "46ae5980",
   "metadata": {},
   "outputs": [
    {
     "data": {
      "text/html": [
       "<div>\n",
       "<style scoped>\n",
       "    .dataframe tbody tr th:only-of-type {\n",
       "        vertical-align: middle;\n",
       "    }\n",
       "\n",
       "    .dataframe tbody tr th {\n",
       "        vertical-align: top;\n",
       "    }\n",
       "\n",
       "    .dataframe thead th {\n",
       "        text-align: right;\n",
       "    }\n",
       "</style>\n",
       "<table border=\"1\" class=\"dataframe\">\n",
       "  <thead>\n",
       "    <tr style=\"text-align: right;\">\n",
       "      <th></th>\n",
       "      <th>class</th>\n",
       "      <th>age</th>\n",
       "      <th>menopause</th>\n",
       "      <th>tumor-size</th>\n",
       "      <th>inv-nodes</th>\n",
       "      <th>node-caps</th>\n",
       "      <th>deg-malig</th>\n",
       "      <th>breast</th>\n",
       "      <th>breast-quad</th>\n",
       "      <th>irradiat</th>\n",
       "    </tr>\n",
       "  </thead>\n",
       "  <tbody>\n",
       "    <tr>\n",
       "      <th>0</th>\n",
       "      <td>no-recurrence-events</td>\n",
       "      <td>30-39</td>\n",
       "      <td>premeno</td>\n",
       "      <td>30-34</td>\n",
       "      <td>0-2</td>\n",
       "      <td>no</td>\n",
       "      <td>3</td>\n",
       "      <td>left</td>\n",
       "      <td>left_low</td>\n",
       "      <td>no</td>\n",
       "    </tr>\n",
       "    <tr>\n",
       "      <th>1</th>\n",
       "      <td>no-recurrence-events</td>\n",
       "      <td>40-49</td>\n",
       "      <td>premeno</td>\n",
       "      <td>20-24</td>\n",
       "      <td>0-2</td>\n",
       "      <td>no</td>\n",
       "      <td>2</td>\n",
       "      <td>right</td>\n",
       "      <td>right_up</td>\n",
       "      <td>no</td>\n",
       "    </tr>\n",
       "    <tr>\n",
       "      <th>2</th>\n",
       "      <td>no-recurrence-events</td>\n",
       "      <td>40-49</td>\n",
       "      <td>premeno</td>\n",
       "      <td>20-24</td>\n",
       "      <td>0-2</td>\n",
       "      <td>no</td>\n",
       "      <td>2</td>\n",
       "      <td>left</td>\n",
       "      <td>left_low</td>\n",
       "      <td>no</td>\n",
       "    </tr>\n",
       "    <tr>\n",
       "      <th>3</th>\n",
       "      <td>no-recurrence-events</td>\n",
       "      <td>60-69</td>\n",
       "      <td>ge40</td>\n",
       "      <td>15-19</td>\n",
       "      <td>0-2</td>\n",
       "      <td>no</td>\n",
       "      <td>2</td>\n",
       "      <td>right</td>\n",
       "      <td>left_up</td>\n",
       "      <td>no</td>\n",
       "    </tr>\n",
       "    <tr>\n",
       "      <th>4</th>\n",
       "      <td>no-recurrence-events</td>\n",
       "      <td>40-49</td>\n",
       "      <td>premeno</td>\n",
       "      <td>0-4</td>\n",
       "      <td>0-2</td>\n",
       "      <td>no</td>\n",
       "      <td>2</td>\n",
       "      <td>right</td>\n",
       "      <td>right_low</td>\n",
       "      <td>no</td>\n",
       "    </tr>\n",
       "    <tr>\n",
       "      <th>...</th>\n",
       "      <td>...</td>\n",
       "      <td>...</td>\n",
       "      <td>...</td>\n",
       "      <td>...</td>\n",
       "      <td>...</td>\n",
       "      <td>...</td>\n",
       "      <td>...</td>\n",
       "      <td>...</td>\n",
       "      <td>...</td>\n",
       "      <td>...</td>\n",
       "    </tr>\n",
       "    <tr>\n",
       "      <th>262</th>\n",
       "      <td>recurrence-events</td>\n",
       "      <td>50-59</td>\n",
       "      <td>premeno</td>\n",
       "      <td>35-39</td>\n",
       "      <td>15-17</td>\n",
       "      <td>yes</td>\n",
       "      <td>3</td>\n",
       "      <td>right</td>\n",
       "      <td>right_up</td>\n",
       "      <td>no</td>\n",
       "    </tr>\n",
       "    <tr>\n",
       "      <th>263</th>\n",
       "      <td>recurrence-events</td>\n",
       "      <td>50-59</td>\n",
       "      <td>ge40</td>\n",
       "      <td>40-44</td>\n",
       "      <td>6-8</td>\n",
       "      <td>yes</td>\n",
       "      <td>3</td>\n",
       "      <td>left</td>\n",
       "      <td>left_low</td>\n",
       "      <td>yes</td>\n",
       "    </tr>\n",
       "    <tr>\n",
       "      <th>264</th>\n",
       "      <td>recurrence-events</td>\n",
       "      <td>50-59</td>\n",
       "      <td>ge40</td>\n",
       "      <td>40-44</td>\n",
       "      <td>6-8</td>\n",
       "      <td>yes</td>\n",
       "      <td>3</td>\n",
       "      <td>left</td>\n",
       "      <td>left_low</td>\n",
       "      <td>yes</td>\n",
       "    </tr>\n",
       "    <tr>\n",
       "      <th>265</th>\n",
       "      <td>recurrence-events</td>\n",
       "      <td>30-39</td>\n",
       "      <td>premeno</td>\n",
       "      <td>30-34</td>\n",
       "      <td>0-2</td>\n",
       "      <td>no</td>\n",
       "      <td>2</td>\n",
       "      <td>left</td>\n",
       "      <td>left_up</td>\n",
       "      <td>no</td>\n",
       "    </tr>\n",
       "    <tr>\n",
       "      <th>266</th>\n",
       "      <td>recurrence-events</td>\n",
       "      <td>30-39</td>\n",
       "      <td>premeno</td>\n",
       "      <td>20-24</td>\n",
       "      <td>0-2</td>\n",
       "      <td>no</td>\n",
       "      <td>3</td>\n",
       "      <td>left</td>\n",
       "      <td>left_up</td>\n",
       "      <td>yes</td>\n",
       "    </tr>\n",
       "  </tbody>\n",
       "</table>\n",
       "<p>267 rows × 10 columns</p>\n",
       "</div>"
      ],
      "text/plain": [
       "                    class    age menopause tumor-size inv-nodes node-caps  \\\n",
       "0    no-recurrence-events  30-39   premeno      30-34       0-2        no   \n",
       "1    no-recurrence-events  40-49   premeno      20-24       0-2        no   \n",
       "2    no-recurrence-events  40-49   premeno      20-24       0-2        no   \n",
       "3    no-recurrence-events  60-69      ge40      15-19       0-2        no   \n",
       "4    no-recurrence-events  40-49   premeno        0-4       0-2        no   \n",
       "..                    ...    ...       ...        ...       ...       ...   \n",
       "262     recurrence-events  50-59   premeno      35-39     15-17       yes   \n",
       "263     recurrence-events  50-59      ge40      40-44       6-8       yes   \n",
       "264     recurrence-events  50-59      ge40      40-44       6-8       yes   \n",
       "265     recurrence-events  30-39   premeno      30-34       0-2        no   \n",
       "266     recurrence-events  30-39   premeno      20-24       0-2        no   \n",
       "\n",
       "     deg-malig breast breast-quad irradiat  \n",
       "0            3   left    left_low       no  \n",
       "1            2  right    right_up       no  \n",
       "2            2   left    left_low       no  \n",
       "3            2  right     left_up       no  \n",
       "4            2  right   right_low       no  \n",
       "..         ...    ...         ...      ...  \n",
       "262          3  right    right_up       no  \n",
       "263          3   left    left_low      yes  \n",
       "264          3   left    left_low      yes  \n",
       "265          2   left     left_up       no  \n",
       "266          3   left     left_up      yes  \n",
       "\n",
       "[267 rows x 10 columns]"
      ]
     },
     "execution_count": 9,
     "metadata": {},
     "output_type": "execute_result"
    }
   ],
   "source": [
    "trainData = trainData.drop(\"Unnamed: 0\", axis=1)\n",
    "testData = testData.drop(\"Unnamed: 0\", axis = 1)\n",
    "trainData"
   ]
  },
  {
   "cell_type": "code",
   "execution_count": 10,
   "id": "f2b3081a",
   "metadata": {},
   "outputs": [],
   "source": [
    "fnames = ['age', 'menopause', 'tumor-size', 'inv-nodes', 'node-caps',\n",
    "       'deg-malig', 'breast', 'breast-quad', 'irradiat']\n",
    "classNames = ['no-recurrence-events', 'recurrence-events']"
   ]
  },
  {
   "cell_type": "code",
   "execution_count": 11,
   "id": "2e30cea3",
   "metadata": {},
   "outputs": [],
   "source": [
    "features = {'age':[\"10-19\", \"20-29\", \"30-39\",\"40-49\", \"50-59\", \"60-69\", \"70-79\", \"80-89\", \n",
    " \"90-99\"],\n",
    "'menopause':[\"lt40\", \"ge40\", \"premeno\"],\n",
    "'tumor-size':[\"0-4\", \"5-9\", \"10-14\", \"15-19\", \"20-24\", \"25-29\", \"30-34\", \"35-39\", \n",
    " \"40-44\", \"45-49\", \"50-54\",\"55-59\"],\n",
    "'inv-nodes':[\"0-2\", \"3-5\", \"6-8\", \"9-11\", \"12-14\", \"15-17\", \"18-20\", \"21-23\", \n",
    " \"24-26\", \"27-29\", \"30-32\", \"33-35\",\"36-39\"],\n",
    "'node-caps':[\"yes\", \"no\"],\n",
    "'deg-malig':[1, 2, 3],\n",
    "'breast':['left', 'right'],\n",
    "'breast-quad':['left_up', 'left_low', 'right_up', 'right_low', 'central'],\n",
    "'irradiat':[\"yes\", \"no\"]}"
   ]
  },
  {
   "cell_type": "code",
   "execution_count": 20,
   "id": "df3395d0",
   "metadata": {},
   "outputs": [],
   "source": [
    "from collections import defaultdict\n",
    "\n",
    "class NaiveBayes:\n",
    "    def __init__(self, features, fnames, classNames):\n",
    "        self.features = features\n",
    "        self.fnames = fnames\n",
    "        self.classNames = classNames\n",
    "    def train(self, data):\n",
    "        # Count the numbers of each class and feature value based on the training instances.\n",
    "        classCounts = {}\n",
    "        featureCounts = {}\n",
    "        totalFeatures = set()\n",
    "        for c in self.classNames:\n",
    "            label = c\n",
    "            classCounts[label] = 1\n",
    "            for i in range(len(self.features)):\n",
    "                feature = self.features[self.fnames[i]]\n",
    "                for f in range(len(feature)):\n",
    "                    featureCounts[str(self.fnames[i]) + \" \" + str(feature[f]) + \" \" + str(label)] = 1\n",
    "                    totalFeatures.add(self.fnames[i])\n",
    "        for i in range(len(data)):\n",
    "            features = data.loc[i, data.columns !='class']\n",
    "            label = data.loc[i, data.columns == 'class']\n",
    "            classCounts[label[0]] += 1\n",
    "            for f in range(len(features)):\n",
    "                featureCounts[str(data.columns[f+1]) + \" \" + str(features[f]) + \" \" + str(label[0])] += 1\n",
    "        # Calculate the probabilities from the counting numbers.\n",
    "        total_instances = len(data)\n",
    "        class_probabilities = {}\n",
    "        feature_probabilities = {}\n",
    "        for label, count in classCounts.items():\n",
    "            class_probabilities[label] = count/ total_instances\n",
    "        for feature, value in featureCounts.items():\n",
    "            f, v, l = feature.split()\n",
    "            feature_probabilities[str(f) + \" \" + str(v) + \" \" + str(l)] = value / classCounts[l]\n",
    "        return class_probabilities, feature_probabilities\n",
    "    \n",
    "    def calculateScore(testData, instance, label, class_probabilities, feature_probabilities):\n",
    "        score = class_probabilities[label]\n",
    "        for f in range(len(instance)):\n",
    "            featureSet = str(testData.columns[f+1]) +\" \" + str(instance[f]) +\" \"+str(label)\n",
    "            score *= feature_probabilities[str(featureSet)]\n",
    "        return score\n",
    "    \n",
    "    def predict(testData, class_probs, feature_probs):\n",
    "        predictions = []\n",
    "\n",
    "        for i in range(len(testData)):\n",
    "            scores = {}\n",
    "            print(\"Input Vector: \" + str(list(testData.loc[i, testData.columns != 'class'])))\n",
    "            for label in class_probs:\n",
    "                score = NaiveBayes.calculateScore(testData, testData.loc[i, testData.columns != 'class'], label, class_probs, feature_probs)\n",
    "                scores[label] = score\n",
    "                print(\"Y= \" + str(label) + \" \" + \"score is: \", score)\n",
    "             \n",
    "            predicted_label = max(scores, key=scores.get)\n",
    "            print(\"Predicted Class of input vector: \", predicted_label)\n",
    "            predictions.append(predicted_label)\n",
    "\n",
    "        return predictions\n",
    "\n",
    "    def accuracyScore(true, preds):\n",
    "        correct = 0\n",
    "        total = len(true)\n",
    "        for trueY, predY in zip(true, preds):\n",
    "            if trueY == predY:\n",
    "                correct += 1\n",
    "        acc = correct/total\n",
    "        return acc"
   ]
  },
  {
   "cell_type": "code",
   "execution_count": 21,
   "id": "b4c0a41f",
   "metadata": {},
   "outputs": [],
   "source": [
    "nb = NaiveBayes(features, fnames, classNames)\n",
    "class_probs, feature_probs = nb.train(trainData)"
   ]
  },
  {
   "cell_type": "code",
   "execution_count": 44,
   "id": "f7548908",
   "metadata": {},
   "outputs": [
    {
     "name": "stdout",
     "output_type": "stream",
     "text": [
      "                  Class  Probability:\n",
      "0  no-recurrence-events       0.71161\n",
      "1     recurrence-events       0.29588\n"
     ]
    }
   ],
   "source": [
    "classDf = pd.DataFrame({\"Class\": ['no-recurrence-events', 'recurrence-events'], \"Probability:\": [class_probs.get(\"no-recurrence-events\"), class_probs.get(\"recurrence-events\")]})\n",
    "print(classDf)"
   ]
  },
  {
   "cell_type": "code",
   "execution_count": 45,
   "id": "c0d667c6",
   "metadata": {},
   "outputs": [
    {
     "name": "stdout",
     "output_type": "stream",
     "text": [
      "Complete Probability table:\n",
      "\n"
     ]
    }
   ],
   "source": [
    "print(\"Complete Probability table:\")\n",
    "print(\"\")"
   ]
  },
  {
   "cell_type": "code",
   "execution_count": 37,
   "id": "7b4922f1",
   "metadata": {},
   "outputs": [],
   "source": [
    "age = []\n",
    "meno = []\n",
    "tumorS = []\n",
    "invNodes = []\n",
    "nodeCaps = []\n",
    "degMalig = []\n",
    "breast = []\n",
    "breastQuad = []\n",
    "irrad = []\n",
    "age1 = []\n",
    "meno1 = []\n",
    "tumorS1 = []\n",
    "invNodes1 = []\n",
    "nodeCaps1 = []\n",
    "degMalig1 = []\n",
    "breast1 = []\n",
    "breastQuad1 = []\n",
    "irrad1 = []\n",
    "for feats, i in feature_probs.items():\n",
    "    if feats.split()[0] == \"age\" and feats.split()[2] == \"no-recurrence-events\":\n",
    "        age.append(i)\n",
    "    if feats.split()[0] == \"menopause\" and feats.split()[2] == \"no-recurrence-events\":\n",
    "        meno.append(i)\n",
    "    if feats.split()[0] == \"tumor-size\" and feats.split()[2] == \"no-recurrence-events\":\n",
    "        tumorS.append(i)\n",
    "    if feats.split()[0] == \"inv-nodes\" and feats.split()[2] == \"no-recurrence-events\":\n",
    "        invNodes.append(i)\n",
    "    if feats.split()[0] == \"node-caps\" and feats.split()[2] == \"no-recurrence-events\":\n",
    "        nodeCaps.append(i)\n",
    "    if feats.split()[0] == \"deg-malig\" and feats.split()[2] == \"no-recurrence-events\":\n",
    "        degMalig.append(i)\n",
    "    if feats.split()[0] == \"breast\" and feats.split()[2] == \"no-recurrence-events\":\n",
    "        breast.append(i)\n",
    "    if feats.split()[0] == \"breast-quad\" and feats.split()[2] == \"no-recurrence-events\":\n",
    "        breastQuad.append(i)\n",
    "    if feats.split()[0] == \"irradiat\" and feats.split()[2] == \"no-recurrence-events\":\n",
    "        irrad.append(i)\n",
    "    if feats.split()[0] == \"age\" and feats.split()[2] == \"recurrence-events\":\n",
    "        age1.append(i)\n",
    "    if feats.split()[0] == \"menopause\" and feats.split()[2] == \"recurrence-events\":\n",
    "        meno1.append(i)\n",
    "    if feats.split()[0] == \"tumor-size\" and feats.split()[2] == \"recurrence-events\":\n",
    "        tumorS1.append(i)\n",
    "    if feats.split()[0] == \"inv-nodes\" and feats.split()[2] == \"recurrence-events\":\n",
    "        invNodes1.append(i)\n",
    "    if feats.split()[0] == \"node-caps\" and feats.split()[2] == \"recurrence-events\":\n",
    "        nodeCaps1.append(i)\n",
    "    if feats.split()[0] == \"deg-malig\" and feats.split()[2] == \"recurrence-events\":\n",
    "        degMalig1.append(i)\n",
    "    if feats.split()[0] == \"breast\" and feats.split()[2] == \"recurrence-events\":\n",
    "        breast1.append(i)\n",
    "    if feats.split()[0] == \"breast-quad\" and feats.split()[2] == \"recurrence-events\":\n",
    "        breastQuad1.append(i)\n",
    "    if feats.split()[0] == \"irradiat\" and feats.split()[2] == \"recurrence-events\":\n",
    "        irrad1.append(i)"
   ]
  },
  {
   "cell_type": "code",
   "execution_count": 40,
   "id": "3032e4a1",
   "metadata": {},
   "outputs": [],
   "source": [
    "ageDf = pd.DataFrame({\"age\": features[\"age\"], \"No-Recurrence:\": age, \"Recurrence\": age1})\n",
    "menoDf = pd.DataFrame({\"menopause\": features[\"menopause\"], \"No-Recurrence:\": meno, \"Recurrence\": meno1})\n",
    "tumorSDf = pd.DataFrame({\"tumor-size\": features[\"tumor-size\"], \"No-Recurrence:\": tumorS, \"Recurrence\": tumorS1})\n",
    "invNodesDf = pd.DataFrame({\"inv-nodes\": features[\"inv-nodes\"], \"No-Recurrence:\": invNodes, \"Recurrence\": invNodes1})\n",
    "nodeCapsDf = pd.DataFrame({\"node-caps\": features[\"node-caps\"], \"No-Recurrence:\": nodeCaps, \"Recurrence\": nodeCaps1})\n",
    "degMaligDf = pd.DataFrame({\"deg-malig\": features[\"deg-malig\"], \"No-Recurrence:\": degMalig, \"Recurrence\": degMalig1})\n",
    "breastDf= pd.DataFrame({\"breast\": features[\"breast\"], \"No-Recurrence:\": breast, \"Recurrence\": breast1})\n",
    "breastQuadDf = pd.DataFrame({\"breast-quad\": features[\"breast-quad\"], \"No-Recurrence:\": breastQuad, \"Recurrence\": breastQuad1})\n",
    "irradDf= pd.DataFrame({\"irradiat\": features[\"irradiat\"], \"No-Recurrence:\": irrad, \"Recurrence\": irrad1})"
   ]
  },
  {
   "cell_type": "code",
   "execution_count": 46,
   "id": "42c86711",
   "metadata": {},
   "outputs": [
    {
     "name": "stdout",
     "output_type": "stream",
     "text": [
      "     age  No-Recurrence:  Recurrence\n",
      "0  10-19        0.005263    0.012658\n",
      "1  20-29        0.010526    0.012658\n",
      "2  30-39        0.115789    0.202532\n",
      "3  40-49        0.326316    0.341772\n",
      "4  50-59        0.342105    0.278481\n",
      "5  60-69        0.200000    0.215190\n",
      "6  70-79        0.031579    0.012658\n",
      "7  80-89        0.005263    0.012658\n",
      "8  90-99        0.005263    0.012658\n",
      "  menopause  No-Recurrence:  Recurrence\n",
      "0      lt40        0.031579    0.012658\n",
      "1      ge40        0.463158    0.392405\n",
      "2   premeno        0.515789    0.620253\n",
      "   tumor-size  No-Recurrence:  Recurrence\n",
      "0         0-4        0.042105    0.025316\n",
      "1         5-9        0.026316    0.012658\n",
      "2       10-14        0.136842    0.025316\n",
      "3       15-19        0.121053    0.088608\n",
      "4       20-24        0.184211    0.177215\n",
      "5       25-29        0.168421    0.240506\n",
      "6       30-34        0.178947    0.291139\n",
      "7       35-39        0.063158    0.101266\n",
      "8       40-44        0.089474    0.088608\n",
      "9       45-49        0.015789    0.025316\n",
      "10      50-54        0.026316    0.050633\n",
      "11      55-59        0.005263    0.012658\n",
      "   inv-nodes  No-Recurrence:  Recurrence\n",
      "0        0-2        0.847368    0.544304\n",
      "1        3-5        0.089474    0.202532\n",
      "2        6-8        0.042105    0.139241\n",
      "3       9-11        0.015789    0.075949\n",
      "4      12-14        0.010526    0.037975\n",
      "5      15-17        0.021053    0.050633\n",
      "6      18-20        0.005263    0.012658\n",
      "7      21-23        0.005263    0.012658\n",
      "8      24-26        0.005263    0.025316\n",
      "9      27-29        0.005263    0.012658\n",
      "10     30-32        0.005263    0.012658\n",
      "11     33-35        0.005263    0.012658\n",
      "12     36-39        0.005263    0.012658\n",
      "  node-caps  No-Recurrence:  Recurrence\n",
      "0       yes        0.126316    0.405063\n",
      "1        no        0.878947    0.607595\n",
      "   deg-malig  No-Recurrence:  Recurrence\n",
      "0          1        0.294737    0.113924\n",
      "1          2        0.515789    0.367089\n",
      "2          3        0.200000    0.544304\n",
      "  breast  No-Recurrence:  Recurrence\n",
      "0   left        0.510526    0.556962\n",
      "1  right        0.494737    0.455696\n",
      "  breast-quad  No-Recurrence:  Recurrence\n",
      "0     left_up        0.352632    0.316456\n",
      "1    left_low        0.373684    0.405063\n",
      "2    right_up        0.110526    0.177215\n",
      "3   right_low        0.094737    0.088608\n",
      "4     central        0.089474    0.063291\n",
      "  irradiat  No-Recurrence:  Recurrence\n",
      "0      yes        0.157895    0.392405\n",
      "1       no        0.847368    0.620253\n"
     ]
    }
   ],
   "source": [
    "print(ageDf)\n",
    "print(menoDf)\n",
    "print(tumorSDf)\n",
    "print(invNodesDf )\n",
    "print(nodeCapsDf )\n",
    "print(degMaligDf )\n",
    "print(breastDf)\n",
    "print(breastQuadDf)\n",
    "print(irradDf)"
   ]
  },
  {
   "cell_type": "code",
   "execution_count": 26,
   "id": "708d1d48",
   "metadata": {},
   "outputs": [
    {
     "name": "stdout",
     "output_type": "stream",
     "text": [
      "Printing the calculate scores and predicted class for each input vector:\n",
      " \n",
      "Input Vector: ['50-59', 'premeno', '50-54', '0-2', 'yes', 2, 'right', 'left_up', 'yes']\n",
      "Y= no-recurrence-events score is:  5.0252361135206404e-06\n",
      "Y= recurrence-events score is:  1.185144746072391e-05\n",
      "Predicted Class of input vector:  recurrence-events\n",
      "Input Vector: ['50-59', 'ge40', '35-39', '0-2', 'no', 2, 'left', 'left_up', 'no']\n",
      "Y= no-recurrence-events score is:  0.00041732849746988816\n",
      "Y= recurrence-events score is:  4.345530735598768e-05\n",
      "Predicted Class of input vector:  no-recurrence-events\n",
      "Input Vector: ['50-59', 'premeno', '10-14', '3-5', 'no', 1, 'right', 'left_up', 'no']\n",
      "Y= no-recurrence-events score is:  5.8878218806890874e-05\n",
      "Y= recurrence-events score is:  1.622419224516929e-06\n",
      "Predicted Class of input vector:  no-recurrence-events\n",
      "Input Vector: ['40-49', 'premeno', '10-14', '0-2', 'no', 2, 'left', 'left_low', 'yes']\n",
      "Y= no-recurrence-events score is:  0.00018965784203051642\n",
      "Y= recurrence-events score is:  1.7066084343442433e-05\n",
      "Predicted Class of input vector:  no-recurrence-events\n",
      "Input Vector: ['50-59', 'ge40', '15-19', '0-2', 'yes', 2, 'left', 'central', 'yes']\n",
      "Y= no-recurrence-events score is:  5.434866736709343e-06\n",
      "Y= recurrence-events score is:  3.207415542941948e-06\n",
      "Predicted Class of input vector:  no-recurrence-events\n",
      "Input Vector: ['50-59', 'premeno', '25-29', '0-2', 'no', 1, 'left', 'left_low', 'no']\n",
      "Y= no-recurrence-events score is:  0.0007504740415831185\n",
      "Y= recurrence-events score is:  6.480302920326064e-05\n",
      "Predicted Class of input vector:  no-recurrence-events\n",
      "Input Vector: ['60-69', 'ge40', '25-29', '0-2', 'no', 3, 'right', 'left_low', 'no']\n",
      "Y= no-recurrence-events score is:  0.00025906825523534885\n",
      "Y= recurrence-events score is:  0.00012384056710871053\n",
      "Predicted Class of input vector:  no-recurrence-events\n",
      "Input Vector: ['60-69', 'ge40', '20-24', '0-2', 'no', 1, 'right', 'left_up', 'no']\n",
      "Y= no-recurrence-events score is:  0.00039405165026762883\n",
      "Y= recurrence-events score is:  1.4921120960543075e-05\n",
      "Predicted Class of input vector:  no-recurrence-events\n",
      "Input Vector: ['40-49', 'ge40', '30-34', '3-5', 'no', 3, 'left', 'left_low', 'no']\n",
      "Y= no-recurrence-events score is:  4.8934838332255675e-05\n",
      "Y= recurrence-events score is:  0.00010828136273080714\n",
      "Predicted Class of input vector:  recurrence-events\n",
      "Input Vector: ['50-59', 'ge40', '30-34', '3-5', 'no', 3, 'left', 'left_low', 'no']\n",
      "Y= no-recurrence-events score is:  5.130265309026804e-05\n",
      "Y= recurrence-events score is:  8.822925852139842e-05\n",
      "Predicted Class of input vector:  recurrence-events\n"
     ]
    }
   ],
   "source": [
    "print(\"Printing the calculate scores and predicted class for each input vector:\")\n",
    "print(\" \")\n",
    "predictions = NaiveBayes.predict(testData, class_probs, feature_probs)"
   ]
  },
  {
   "cell_type": "code",
   "execution_count": 15,
   "id": "b5476574",
   "metadata": {},
   "outputs": [
    {
     "data": {
      "text/plain": [
       "0.8"
      ]
     },
     "execution_count": 15,
     "metadata": {},
     "output_type": "execute_result"
    }
   ],
   "source": [
    "NaiveBayes.accuracyScore(testData['class'], predictions)"
   ]
  },
  {
   "cell_type": "markdown",
   "id": "c4bf6bb0",
   "metadata": {},
   "source": [
    "## Part 3: Building Bayesian Network"
   ]
  },
  {
   "cell_type": "markdown",
   "id": "68cbbb97",
   "metadata": {},
   "source": [
    "1."
   ]
  },
  {
   "cell_type": "code",
   "execution_count": 16,
   "id": "984a3a19",
   "metadata": {},
   "outputs": [
    {
     "data": {
      "image/png": "[encoded data removed]",
      "text/plain": [
       "<PIL.PngImagePlugin.PngImageFile image mode=RGBA size=884x677 at 0x134C72BBE80>"
      ]
     },
     "execution_count": 16,
     "metadata": {},
     "output_type": "execute_result"
    }
   ],
   "source": [
    "from PIL import Image\n",
    "img = Image.open(\"bay.png\")\n",
    "img"
   ]
  },
  {
   "cell_type": "markdown",
   "id": "41ea546d",
   "metadata": {},
   "source": [
    "2."
   ]
  },
  {
   "cell_type": "markdown",
   "id": "54e3a808",
   "metadata": {},
   "source": [
    "The number of free parameters in a model is the number of variables/probabilities that can't be derived but have to be estimated to the best of our ability."
   ]
  },
  {
   "cell_type": "markdown",
   "id": "5714f3dc",
   "metadata": {},
   "source": [
    "In the case of common effect (the relationship between Meetings & Lectures with office:), using the CPT size calculation formula the number of free parameters here is:"
   ]
  },
  {
   "cell_type": "markdown",
   "id": "df325d29",
   "metadata": {},
   "source": [
    "#### |Meetings| − 1 + |Lectures| − 1 + |Meetings||Lectures|(|Office| − 1) = 2 − 1 + 2 − 1 + 2×2×1 = 6 "
   ]
  },
  {
   "cell_type": "markdown",
   "id": "eb551178",
   "metadata": {},
   "source": [
    "In the case of common cause (the relationship between Office with Lights off & logged on), using the CPT size calculation formula the number of free parameters here is:"
   ]
  },
  {
   "cell_type": "markdown",
   "id": "a4df2bb3",
   "metadata": {},
   "source": [
    "#### |Office| − 1 + |Office|(|Lights off| − 1)+ |Office|(|Logged on|-1) = 2 − 1 + 2x1 + 2×1 = 5 "
   ]
  },
  {
   "cell_type": "markdown",
   "id": "97b98792",
   "metadata": {},
   "source": [
    "However because both formulas don't account for shared nodes, the total of free parameters should actually be 6 + 5 - 1, to account for Office being the intersecting node. Due to Office being a binary variable, we deduct 1 from the total. Therefore, the total number of free variables is 10."
   ]
  },
  {
   "cell_type": "markdown",
   "id": "162c907a",
   "metadata": {},
   "source": [
    "3."
   ]
  },
  {
   "cell_type": "markdown",
   "id": "550cc6b2",
   "metadata": {},
   "source": [
    "The joint probability would be written as such:"
   ]
  },
  {
   "cell_type": "markdown",
   "id": "cb73b8f5",
   "metadata": {},
   "source": [
    "P(Lectures, $\\neg$Meetings, Office, Logged on, Lights off) "
   ]
  },
  {
   "cell_type": "markdown",
   "id": "24055cc1",
   "metadata": {},
   "source": [
    "As per the chain rule:\n",
    "P(Lectures, $\\neg$Meetings, Office, Logged on, Lights off) =\n",
    "P(Lectures) x P($\\neg$Meetings) x P(Office|Lectures, $\\neg$Meetings) x P(Logged on|Office) x P(Lights|Office)\n"
   ]
  },
  {
   "cell_type": "markdown",
   "id": "10c406a3",
   "metadata": {},
   "source": [
    "= 0.6 x P($\\neg$Meetings) x 0.8 x 0.8 x 0.5"
   ]
  },
  {
   "cell_type": "markdown",
   "id": "3dda6cb9",
   "metadata": {},
   "source": [
    "Since the probability of Rachael going to meetings is entirely independent from the probability of Rachael going to lectures, due to both being binary variables we can make the assumption that the probablity of Rachael not going to her meetings would be 1-P(Meetings)"
   ]
  },
  {
   "cell_type": "markdown",
   "id": "c072e5ba",
   "metadata": {},
   "source": [
    "Therefore a reasonable estimate of P($\\neg$Meetings) could be 1-0.7 = 0.3"
   ]
  },
  {
   "cell_type": "markdown",
   "id": "d89fc6fd",
   "metadata": {},
   "source": [
    "Therefore P(Lectures, $\\neg$Meetings, Office, Logged on, Lights off) = 0.0576"
   ]
  },
  {
   "cell_type": "markdown",
   "id": "deaa79c5",
   "metadata": {},
   "source": [
    "4."
   ]
  },
  {
   "cell_type": "markdown",
   "id": "df611146",
   "metadata": {},
   "source": [
    "In order to calculate the value of P(Office), we have to consider all the scenarios for this to happen and use the existing conditional probabilities for Rachel being in the office."
   ]
  },
  {
   "cell_type": "markdown",
   "id": "6bb48372",
   "metadata": {},
   "source": [
    "**P(Office) = P(Meetings) x P(Lectures) x P(Office|Meetings, Lectures) + P(Meetings) x P($\\neg$Lectures) x P(Office|Meetings, $\\neg$Lectures) + P($\\neg$Meetings) x P(Lectures) x P(Office|$\\neg$Meetings, Lectures) + \n",
    "P($\\neg$Meetings) x P($\\neg$Lectures) x P(Office|$\\neg$Meetings, $\\neg$Lectures)**"
   ]
  },
  {
   "cell_type": "markdown",
   "id": "705af826",
   "metadata": {},
   "source": [
    "**P(Office) = 0.7 x 0.6 x 0.95 + 0.7 x (1-0.6) x 0.75 + (1-0.7) x 0.6 x 0.8 + (1-0.7) x (1-0.6) x 0.06**"
   ]
  },
  {
   "cell_type": "markdown",
   "id": "1acce47a",
   "metadata": {},
   "source": [
    "= 0.6344"
   ]
  },
  {
   "cell_type": "markdown",
   "id": "e436c594",
   "metadata": {},
   "source": [
    "5."
   ]
  },
  {
   "cell_type": "markdown",
   "id": "33e54e17",
   "metadata": {},
   "source": [
    "Rule used here: In a bayesian network, a node is conditionally independent from all the nodes except its direct effects, if the direct causes are all given, and no direct effect is given. "
   ]
  },
  {
   "cell_type": "markdown",
   "id": "93cbc1fc",
   "metadata": {},
   "source": [
    "Therefore, if we know that Rachel is in the office, the conditional probability that Rachel is logged on but her light is off is: **P(Logged On|Light off)**"
   ]
  },
  {
   "cell_type": "markdown",
   "id": "23902177",
   "metadata": {},
   "source": [
    "In this situation, the variable of whether Rachel has logged on or not is independent to whether the light is off or on. Therefore **P(Logged On|Light off) = P(Logged On)**"
   ]
  },
  {
   "cell_type": "markdown",
   "id": "2677f7f9",
   "metadata": {},
   "source": [
    "P(Logged On) = 0.8 x 0.6344 + 0.2 x (1-0.6344) = 0.58064"
   ]
  }
 ],
 "metadata": {
  "kernelspec": {
   "display_name": "Python 3",
   "language": "python",
   "name": "python3"
  },
  "language_info": {
   "codemirror_mode": {
    "name": "ipython",
    "version": 3
   },
   "file_extension": ".py",
   "mimetype": "text/x-python",
   "name": "python",
   "nbconvert_exporter": "python",
   "pygments_lexer": "ipython3",
   "version": "3.8.8"
  }
 },
 "nbformat": 4,
 "nbformat_minor": 5
}
