{
 "cells": [
  {
   "cell_type": "code",
   "execution_count": 1,
   "id": "ebc5190a",
   "metadata": {},
   "outputs": [],
   "source": [
    "import pandas as pd\n",
    "import numpy as np\n",
    "import random as random"
   ]
  },
  {
   "cell_type": "code",
   "execution_count": 2,
   "id": "782f44b5",
   "metadata": {},
   "outputs": [],
   "source": [
    "file = pd.read_csv('ionosphere.data')\n",
    "file.to_csv('ionosphere.csv')"
   ]
  },
  {
   "cell_type": "markdown",
   "id": "f5709f8e",
   "metadata": {},
   "source": [
    "## Part 3: Perceptron"
   ]
  },
  {
   "cell_type": "markdown",
   "id": "13c2461f",
   "metadata": {},
   "source": [
    "### 3."
   ]
  },
  {
   "cell_type": "markdown",
   "id": "92789a7f",
   "metadata": {},
   "source": [
    "a)\n"
   ]
  },
  {
   "cell_type": "code",
   "execution_count": 3,
   "id": "9593b0cb",
   "metadata": {},
   "outputs": [],
   "source": [
    "ionosphereDF = pd.read_csv('ionosphere.csv')"
   ]
  },
  {
   "cell_type": "code",
   "execution_count": 4,
   "id": "b55763e9",
   "metadata": {},
   "outputs": [],
   "source": [
    "result = pd.DataFrame('f1 f2 f3 f4 f5 f6 f7 f8 f9 f10 f11 f12 f13 f14 f15 f16 f17 f18 f19 f20 f21 f22 f23 f24 f25 f26 f27 f28 f29 f30 f31 f32 f33 f34 class'.split(\" \"))\n",
    "for i in range(len(ionosphereDF)):\n",
    "    data = pd.DataFrame(ionosphereDF['f1 f2 f3 f4 f5 f6 f7 f8 f9 f10 f11 f12 f13 f14 f15 f16 f17 f18 f19 f20 f21 f22 f23 f24 f25 f26 f27 f28 f29 f30 f31 f32 f33 f34 class'][i].split(\" \"))\n",
    "    result = pd.concat([result, data], axis=1)"
   ]
  },
  {
   "cell_type": "code",
   "execution_count": 5,
   "id": "801d3e15",
   "metadata": {},
   "outputs": [],
   "source": [
    "ionosphereData = result.transpose()\n",
    "ionosphereData.columns = ionosphereData.iloc[0]\n",
    "ionosphereData = ionosphereData.iloc[1:]\n",
    "ionosphereData = ionosphereData.reset_index(drop=True)\n",
    "ionosphereDataX = ionosphereData.drop('class', axis = 1)\n",
    "ionosphereDataY = ionosphereData['class']\n",
    "ionosphereY = ionosphereDataY.replace(list(set(ionosphereDataY))[1], 1)\n",
    "ionosphereY = ionosphereY.replace(list(set(ionosphereDataY))[0], 0)"
   ]
  },
  {
   "cell_type": "code",
   "execution_count": 6,
   "id": "6c868488",
   "metadata": {},
   "outputs": [],
   "source": [
    "ionosphereDataX = ionosphereDataX.astype(float)"
   ]
  },
  {
   "cell_type": "code",
   "execution_count": 7,
   "id": "617140e4",
   "metadata": {},
   "outputs": [],
   "source": [
    "class Perceptron: \n",
    "    def __init__(self, learning_rate=0.01, epochs=1000):\n",
    "        self.learning_rate = learning_rate\n",
    "        self.epochs = epochs\n",
    "        self.weights = None\n",
    "        self.bias = None \n",
    "    def perceptronFunction(self, X, weight, bias):\n",
    "        z = np.dot(X, weight) + bias\n",
    "        output = 1.0 if z > 0 else 0\n",
    "        return output\n",
    "    def fit(self, X, y):\n",
    "        self.weights = np.array([random.random() for i in range(X.shape[1])])\n",
    "        self.bias = random.random()\n",
    "        self.y = y\n",
    "        for epoch in range(self.epochs):\n",
    "            for i in range(X.shape[0]):\n",
    "                preds = self.perceptronFunction(X[i], self.weights, self.bias)\n",
    "                # implement lecture algorithm\n",
    "                if y[i] == preds:\n",
    "                    pass\n",
    "                elif y[i] < preds: \n",
    "                    self.weights += self.learning_rate*(y[i]-preds) * X[i]\n",
    "                elif y[i] > preds:\n",
    "                    self.weights += self.learning_rate*(preds+y[i]) * X[i]\n",
    "                self.bias += self.learning_rate * (y[i] - preds)\n",
    "        print(\"Learned weights: \", self.weights)\n",
    "        print(\"Learned bias: \", self.bias) \n",
    "    def predict(self, x):\n",
    "        predictions = []\n",
    "        for i in range(x.shape[0]):\n",
    "            y = self.perceptronFunction(x[i], self.weights, self.bias)\n",
    "            predictions.append(y)\n",
    "        return predictions"
   ]
  },
  {
   "cell_type": "code",
   "execution_count": 8,
   "id": "cfbecac9",
   "metadata": {},
   "outputs": [],
   "source": [
    "model = Perceptron()"
   ]
  },
  {
   "cell_type": "code",
   "execution_count": 9,
   "id": "6df595e8",
   "metadata": {},
   "outputs": [
    {
     "name": "stdout",
     "output_type": "stream",
     "text": [
      "Learned weights:  [-0.83084426  0.498364   -0.04201212  0.03620998 -0.13818225 -0.11422749\n",
      " -0.01880135 -0.14327418 -0.17845444 -0.07373049  0.12460905  0.0419525\n",
      "  0.01283204 -0.00292418 -0.12705675  0.13000325 -0.04988772 -0.07242706\n",
      "  0.19149298 -0.03524229 -0.00831258  0.0991179  -0.0936604  -0.07476522\n",
      " -0.02491507 -0.01872411  0.14713643 -0.02815314 -0.06710038 -0.08400232\n",
      " -0.06095722 -0.02054515  0.00219998  0.1472008 ]\n",
      "Learned bias:  0.9223662634852214\n"
     ]
    }
   ],
   "source": [
    "model.fit(ionosphereDataX.values, ionosphereY)"
   ]
  },
  {
   "cell_type": "code",
   "execution_count": 10,
   "id": "adedc635",
   "metadata": {},
   "outputs": [],
   "source": [
    "predictions = model.predict(ionosphereDataX.values)"
   ]
  },
  {
   "cell_type": "code",
   "execution_count": 11,
   "id": "682e9f24",
   "metadata": {},
   "outputs": [],
   "source": [
    "def accuracyScore(predictions, yTest):\n",
    "    return np.sum(yTest == predictions)/len(yTest)"
   ]
  },
  {
   "cell_type": "code",
   "execution_count": 12,
   "id": "e0270e1b",
   "metadata": {},
   "outputs": [
    {
     "data": {
      "text/plain": [
       "0.9230769230769231"
      ]
     },
     "execution_count": 12,
     "metadata": {},
     "output_type": "execute_result"
    }
   ],
   "source": [
    "accuracyScore(predictions, ionosphereY)"
   ]
  },
  {
   "cell_type": "markdown",
   "id": "d4d2dbc9",
   "metadata": {},
   "source": [
    "This model has achieved 91-93% accuracy without splitting the dataset, and due to this relatively high accuracy we can say that the weights are good. However, this is also due to the high level of bias in the training and testing data, as a result of them being the same in this case. Therefore it is inaccurate to say that the model will perform the same when testing on new unseen ionosphere data. Initial weights used are set to random, hence the variation in accuracies between different runs."
   ]
  },
  {
   "cell_type": "code",
   "execution_count": 13,
   "id": "1ba672ce",
   "metadata": {},
   "outputs": [],
   "source": [
    "import sklearn\n",
    "from sklearn.model_selection import train_test_split\n",
    "\n",
    "xTrain, xTest, yTrain, yTest = train_test_split(ionosphereDataX, ionosphereY, test_size=0.2, random_state = 307)"
   ]
  },
  {
   "cell_type": "code",
   "execution_count": 14,
   "id": "2f7093cd",
   "metadata": {},
   "outputs": [],
   "source": [
    "yTrain = yTrain.reset_index(drop=True)\n",
    "yTest = yTest.reset_index(drop=True)"
   ]
  },
  {
   "cell_type": "code",
   "execution_count": 15,
   "id": "74f2d193",
   "metadata": {},
   "outputs": [],
   "source": [
    "ytrain = yTrain.replace(list(set(yTrain))[1], 1)\n",
    "ytrain = ytrain.replace(list(set(yTrain))[0], 0)\n",
    "ytest= yTest.replace(list(set(yTest))[1], 1)\n",
    "ytest= ytest.replace(list(set(yTest))[0], 0)"
   ]
  },
  {
   "cell_type": "code",
   "execution_count": 16,
   "id": "074261a5",
   "metadata": {},
   "outputs": [
    {
     "name": "stdout",
     "output_type": "stream",
     "text": [
      "Learned weights:  [-1.06925935  0.74139205 -0.28760527 -0.0630509  -0.21537493 -0.59535177\n",
      "  0.15138319 -0.27279582 -0.17648712 -0.00554124  0.16816432  0.07672316\n",
      "  0.10757557 -0.04942113 -0.39292247  0.319063   -0.00810425 -0.07300914\n",
      "  0.25549472  0.01651511  0.03855934  0.25698634 -0.35170626 -0.16564207\n",
      " -0.28931322  0.0344377   0.6009123  -0.04876247 -0.00324454 -0.2914745\n",
      " -0.02470669  0.24358282 -0.19392497  0.09846693]\n",
      "Learned bias:  1.229359482353925\n"
     ]
    }
   ],
   "source": [
    "model2 = Perceptron()\n",
    "model2.fit(xTrain.values, ytrain)"
   ]
  },
  {
   "cell_type": "code",
   "execution_count": 17,
   "id": "03349e73",
   "metadata": {},
   "outputs": [],
   "source": [
    "preds2 = model2.predict(xTest.values)"
   ]
  },
  {
   "cell_type": "code",
   "execution_count": 18,
   "id": "12c8f828",
   "metadata": {},
   "outputs": [
    {
     "data": {
      "text/plain": [
       "0.8732394366197183"
      ]
     },
     "execution_count": 18,
     "metadata": {},
     "output_type": "execute_result"
    }
   ],
   "source": [
    "accuracyScore(preds2, ytest)"
   ]
  },
  {
   "cell_type": "markdown",
   "id": "74a3ee50",
   "metadata": {},
   "source": [
    "b)\n",
    "\n",
    "As said before, training the model on the same set of data as the testing data is not a good way of evaluating a model's performance and effectiveness especially in terms of how it should perform on a set of new and unseen data. \n",
    "\n",
    "Splitting the dataset into training/testing sets provides a more accurate insight into how effective the model is by keeping training and testing datasets seperate and unique, here I performed a test/train split with 80% of the ionosphere data used for training and 20% as testing, which ended up with an 87.32% accuracy upon testing. This is lower than the previous performance as a result of using unique testing/training datasets."
   ]
  },
  {
   "cell_type": "code",
   "execution_count": null,
   "id": "9c5a5d19",
   "metadata": {},
   "outputs": [],
   "source": []
  }
 ],
 "metadata": {
  "kernelspec": {
   "display_name": "Python 3",
   "language": "python",
   "name": "python3"
  },
  "language_info": {
   "codemirror_mode": {
    "name": "ipython",
    "version": 3
   },
   "file_extension": ".py",
   "mimetype": "text/x-python",
   "name": "python",
   "nbconvert_exporter": "python",
   "pygments_lexer": "ipython3",
   "version": "3.8.8"
  }
 },
 "nbformat": 4,
 "nbformat_minor": 5
}
