{
 "cells": [
  {
   "cell_type": "code",
   "execution_count": 1,
   "id": "1f80defe",
   "metadata": {},
   "outputs": [],
   "source": [
    "# import libraries\n",
    "import numpy as np\n",
    "import pandas as pd\n",
    "import collections\n",
    "from collections import Counter"
   ]
  },
  {
   "cell_type": "markdown",
   "id": "fe1f9f47",
   "metadata": {},
   "source": [
    "## Part 2: Decision Tree Learning Method"
   ]
  },
  {
   "cell_type": "markdown",
   "id": "9d953d7a",
   "metadata": {},
   "source": [
    "### 3."
   ]
  },
  {
   "cell_type": "markdown",
   "id": "66ca3c86",
   "metadata": {},
   "source": [
    "a)"
   ]
  },
  {
   "cell_type": "code",
   "execution_count": 2,
   "id": "85c30985",
   "metadata": {},
   "outputs": [],
   "source": [
    "file = pd.read_csv('hepatitis')\n",
    "file1 = pd.read_csv('hepatitis-training')\n",
    "file2 = pd.read_csv('hepatitis-test')\n",
    "file.to_csv('hepatitis.csv')\n",
    "file1.to_csv('hepatitis-training.csv')\n",
    "file2.to_csv('hepatitis-test.csv')\n",
    "file3 = pd.read_csv('golf-training')\n",
    "file4 = pd.read_csv('golf-test')\n",
    "file3.to_csv('golf-training.csv')\n",
    "file4.to_csv('golf-test.csv')"
   ]
  },
  {
   "cell_type": "code",
   "execution_count": 3,
   "id": "8538248e",
   "metadata": {},
   "outputs": [
    {
     "data": {
      "text/html": [
       "<div>\n",
       "<style scoped>\n",
       "    .dataframe tbody tr th:only-of-type {\n",
       "        vertical-align: middle;\n",
       "    }\n",
       "\n",
       "    .dataframe tbody tr th {\n",
       "        vertical-align: top;\n",
       "    }\n",
       "\n",
       "    .dataframe thead th {\n",
       "        text-align: right;\n",
       "    }\n",
       "</style>\n",
       "<table border=\"1\" class=\"dataframe\">\n",
       "  <thead>\n",
       "    <tr style=\"text-align: right;\">\n",
       "      <th></th>\n",
       "      <th>Unnamed: 0</th>\n",
       "      <th>Unnamed: 0.1</th>\n",
       "      <th>Class Cloudy Raining Hot Cold Humid Windy</th>\n",
       "    </tr>\n",
       "  </thead>\n",
       "  <tbody>\n",
       "    <tr>\n",
       "      <th>0</th>\n",
       "      <td>0</td>\n",
       "      <td>0</td>\n",
       "      <td>StayHome true true false true false true</td>\n",
       "    </tr>\n",
       "    <tr>\n",
       "      <th>1</th>\n",
       "      <td>1</td>\n",
       "      <td>1</td>\n",
       "      <td>StayHome false false false false true false</td>\n",
       "    </tr>\n",
       "    <tr>\n",
       "      <th>2</th>\n",
       "      <td>2</td>\n",
       "      <td>2</td>\n",
       "      <td>PlayGolf false false false false false true</td>\n",
       "    </tr>\n",
       "    <tr>\n",
       "      <th>3</th>\n",
       "      <td>3</td>\n",
       "      <td>3</td>\n",
       "      <td>PlayGolf true true false false true false</td>\n",
       "    </tr>\n",
       "    <tr>\n",
       "      <th>4</th>\n",
       "      <td>4</td>\n",
       "      <td>4</td>\n",
       "      <td>PlayGolf true false false true false true</td>\n",
       "    </tr>\n",
       "    <tr>\n",
       "      <th>5</th>\n",
       "      <td>5</td>\n",
       "      <td>5</td>\n",
       "      <td>PlayGolf true false true false false false</td>\n",
       "    </tr>\n",
       "  </tbody>\n",
       "</table>\n",
       "</div>"
      ],
      "text/plain": [
       "   Unnamed: 0  Unnamed: 0.1    Class Cloudy Raining Hot Cold Humid Windy\n",
       "0           0             0     StayHome true true false true false true\n",
       "1           1             1  StayHome false false false false true false\n",
       "2           2             2  PlayGolf false false false false false true\n",
       "3           3             3    PlayGolf true true false false true false\n",
       "4           4             4    PlayGolf true false false true false true\n",
       "5           5             5   PlayGolf true false true false false false"
      ]
     },
     "execution_count": 3,
     "metadata": {},
     "output_type": "execute_result"
    }
   ],
   "source": [
    "hepatitisDF = pd.read_csv('hepatitis.csv')\n",
    "hepatitisTrainDF = pd.read_csv('hepatitis-training.csv')\n",
    "hepatitisTestDF = pd.read_csv('hepatitis-test.csv')\n",
    "golfTrainDF= pd.read_csv('golf-training.csv')\n",
    "golfTestDF = pd.read_csv('golf-test.csv')\n",
    "golfTestDF"
   ]
  },
  {
   "cell_type": "code",
   "execution_count": 4,
   "id": "101e994a",
   "metadata": {},
   "outputs": [],
   "source": [
    "result4 = pd.DataFrame('Class Cloudy Raining Hot Cold Humid Windy'.split(\" \"))\n",
    "result5 = pd.DataFrame('Class Cloudy Raining Hot Cold Humid Windy'.split(\" \"))\n",
    "for i in range(len(golfTrainDF)):\n",
    "    data = pd.DataFrame(golfTrainDF['Class Cloudy Raining Hot Cold Humid Windy'][i].split(\" \"))\n",
    "    result4 = pd.concat([result4, data], axis=1)\n",
    "for i in range(len(golfTestDF)):\n",
    "    data = pd.DataFrame(golfTestDF['Class Cloudy Raining Hot Cold Humid Windy'][i].split(\" \"))\n",
    "    result5 = pd.concat([result5, data], axis=1)"
   ]
  },
  {
   "cell_type": "code",
   "execution_count": 5,
   "id": "bdfa7809",
   "metadata": {},
   "outputs": [],
   "source": [
    "golfTrainData = result4.transpose()\n",
    "golfTrainData.columns = golfTrainData.iloc[0]\n",
    "golfTrainData = golfTrainData.iloc[1:]\n",
    "golfTrainData = golfTrainData.reset_index(drop=True)\n",
    "golfTrainDataX = golfTrainData.drop('Class', axis = 1)\n",
    "golfTrainDataY = golfTrainData['Class']"
   ]
  },
  {
   "cell_type": "code",
   "execution_count": 6,
   "id": "7d8f2284",
   "metadata": {},
   "outputs": [],
   "source": [
    "golfTestData = result5.transpose()\n",
    "golfTestData.columns = golfTestData.iloc[0]\n",
    "golfTestData = golfTestData.iloc[1:]\n",
    "golfTestData = golfTestData.reset_index(drop=True)\n",
    "golfTestDataX = golfTestData.drop('Class', axis = 1)\n",
    "golfTestDataY = golfTestData['Class']"
   ]
  },
  {
   "cell_type": "code",
   "execution_count": 7,
   "id": "9f7b859f",
   "metadata": {},
   "outputs": [],
   "source": [
    "result = pd.DataFrame('Class AGE FEMALE STEROID ANTIVIRALS FATIGUE MALAISE ANOREXIA BIGLIVER FIRMLIVER SPLEENPALPABLE SPIDERS ASCITES VARICES BILIRUBIN SGOT HISTOLOGY'.split(\" \"))\n",
    "result2 = pd.DataFrame('Class AGE FEMALE STEROID ANTIVIRALS FATIGUE MALAISE ANOREXIA BIGLIVER FIRMLIVER SPLEENPALPABLE SPIDERS ASCITES VARICES BILIRUBIN SGOT HISTOLOGY'.split(\" \"))\n",
    "result3 = pd.DataFrame('Class AGE FEMALE STEROID ANTIVIRALS FATIGUE MALAISE ANOREXIA BIGLIVER FIRMLIVER SPLEENPALPABLE SPIDERS ASCITES VARICES BILIRUBIN SGOT HISTOLOGY'.split(\" \"))\n",
    "for i in range(len(hepatitisDF)):\n",
    "    data = pd.DataFrame(hepatitisDF['Class AGE FEMALE STEROID ANTIVIRALS FATIGUE MALAISE ANOREXIA BIGLIVER FIRMLIVER SPLEENPALPABLE SPIDERS ASCITES VARICES BILIRUBIN SGOT HISTOLOGY'][i].split(\" \"))\n",
    "    result = pd.concat([result, data], axis=1)\n",
    "for i in range(len(hepatitisTrainDF)):\n",
    "    data = pd.DataFrame(hepatitisTrainDF['Class AGE FEMALE STEROID ANTIVIRALS FATIGUE MALAISE ANOREXIA BIGLIVER FIRMLIVER SPLEENPALPABLE SPIDERS ASCITES VARICES BILIRUBIN SGOT HISTOLOGY'][i].split(\" \"))\n",
    "    result2 = pd.concat([result2, data], axis=1)\n",
    "for i in range(len(hepatitisTestDF)):\n",
    "    data = pd.DataFrame(hepatitisTestDF['Class AGE FEMALE STEROID ANTIVIRALS FATIGUE MALAISE ANOREXIA BIGLIVER FIRMLIVER SPLEENPALPABLE SPIDERS ASCITES VARICES BILIRUBIN SGOT HISTOLOGY'][i].split(\" \"))\n",
    "    result3 = pd.concat([result3, data], axis=1)"
   ]
  },
  {
   "cell_type": "code",
   "execution_count": 8,
   "id": "cdc03488",
   "metadata": {},
   "outputs": [],
   "source": [
    "hepatitisData = result.transpose()\n",
    "hepatitisData.columns = hepatitisData.iloc[0]\n",
    "hepatitisData = hepatitisData.iloc[1:]\n",
    "hepatitisData = hepatitisData.reset_index(drop=True)"
   ]
  },
  {
   "cell_type": "code",
   "execution_count": 9,
   "id": "a8c22859",
   "metadata": {},
   "outputs": [],
   "source": [
    "hepatitisTrainData = result2.transpose()\n",
    "hepatitisTrainData.columns = hepatitisTrainData.iloc[0]\n",
    "hepatitisTrainData = hepatitisTrainData.iloc[1:]\n",
    "hepatitisTrainData = hepatitisTrainData.reset_index(drop=True)\n",
    "hepatitisTrainDataX = hepatitisTrainData.drop('Class', axis = 1)\n",
    "hepatitisTrainDataY = hepatitisTrainData['Class']"
   ]
  },
  {
   "cell_type": "code",
   "execution_count": 10,
   "id": "8800bea4",
   "metadata": {},
   "outputs": [],
   "source": [
    "hepatitisTestData = result3.transpose()\n",
    "hepatitisTestData.columns = hepatitisTestData.iloc[0]\n",
    "hepatitisTestData = hepatitisTestData.iloc[1:]\n",
    "hepatitisTestData = hepatitisTestData.reset_index(drop=True)\n",
    "hepatitisTestDataX = hepatitisTestData.drop('Class', axis = 1)\n",
    "hepatitisTestDataY = hepatitisTestData['Class']"
   ]
  },
  {
   "cell_type": "code",
   "execution_count": 64,
   "id": "2cd762e7",
   "metadata": {},
   "outputs": [],
   "source": [
    "# define node used in DecisionTree\n",
    "class Node:\n",
    "    def __init__(self, featureName,prob=None, feature=None, threshold=None, left=None, right=None, *, value=None, gain = None, depth = 0):\n",
    "        self.feature = feature\n",
    "        self.featureName = featureName[feature]\n",
    "        self.threshold = threshold \n",
    "        self.left = left\n",
    "        self.right = right\n",
    "        self.value = value\n",
    "        self.gain = gain\n",
    "        self.depth = depth\n",
    "        self.prob = prob\n",
    "    def isLeafNode(self):\n",
    "        return self.value is not None\n",
    "    def report(self, indent,  classVal):\n",
    "        if self.feature != None:\n",
    "            print(\"{}{} = True\\n\".format(indent, self.featureName))\n",
    "        if self.left != None:\n",
    "            self.left.report(indent + \"    \",  classVal)\n",
    "        if self.feature != None:\n",
    "            print(\"{}{} = False\\n\".format(indent, self.featureName))\n",
    "        if self.right != None:\n",
    "            self.right.report(indent + \"    \",  classVal)\n",
    "        if self.isLeafNode():\n",
    "            if self.value == 1:\n",
    "                n = list(classVal)[1]\n",
    "                print(indent + \"Class: \" + n + \", probability = \" + str(self.prob))\n",
    "            if self.value == 0:\n",
    "                n = list(classVal)[0]\n",
    "                print(indent + \"Class: \" + n + \",  probability = \" + str(self.prob))"
   ]
  },
  {
   "cell_type": "code",
   "execution_count": 65,
   "id": "84bcc680",
   "metadata": {},
   "outputs": [],
   "source": [
    "# define functions used in DecisionTree\n",
    "class DecisionTree:\n",
    "    def __init__(self, minSamplesSplit, maxDepth, featureCount):\n",
    "        self.minSamplesSplit = minSamplesSplit\n",
    "        self.maxDepth = maxDepth\n",
    "        self.featureCount = featureCount\n",
    "        self.root=None\n",
    "    \n",
    "    def mostCommonLabel(self,y):\n",
    "        counter = Counter(y)\n",
    "        val = counter.most_common(1)[0][0]\n",
    "        return val\n",
    "    \n",
    "    # chosen impurity measurement: entropy\n",
    "    def entropy(self, y):\n",
    "        hist = np.bincount(y)\n",
    "        ps = hist/len(y)\n",
    "        return -np.sum([p * np.log(p) for p in ps if p>0])\n",
    "\n",
    "    def split(self, xCol, splitThreshold):\n",
    "        leftIdxs = np.argwhere(xCol<=splitThreshold).flatten()\n",
    "        rightIdxs = np.argwhere(xCol>splitThreshold).flatten()\n",
    "        return leftIdxs, rightIdxs\n",
    "    \n",
    "    # infoGain utilises entropy \n",
    "    def infoGain(self, xCol, y, threshold):\n",
    "        parentEntropy = self.entropy(y)\n",
    "        leftIdxs, rightIdxs = self.split(xCol, threshold)\n",
    "        if len(leftIdxs) == 0 or len(rightIdxs) == 0:\n",
    "            return 0\n",
    "        n = len(y)\n",
    "        nLeft, nRight = len(leftIdxs), len(rightIdxs)\n",
    "        eLeft, eRight = self.entropy(y[leftIdxs]), self.entropy(y[rightIdxs])\n",
    "        childEntropy = (nLeft/n) * eLeft + (nRight/n) * eRight\n",
    "        infoGain = parentEntropy - childEntropy\n",
    "        return infoGain\n",
    "    \n",
    "    def fit(self, X, y):\n",
    "        numY = y.replace(list(set(y))[1], 1)\n",
    "        numY = numY.replace(list(set(y))[0], 0)\n",
    "        numY = numY.astype('int32')\n",
    "        self.featureCount = X.values.shape[1] if not self.featureCount else min(X.values.shape[1], self.featureCount)\n",
    "        self.y = y\n",
    "        self.root = self.growTree(X.columns, X.values, numY.values)\n",
    "    \n",
    "    def bestSplit(self, X, y, featIdxs):\n",
    "        bestGain = -1\n",
    "        splitIdx, splitThresh = None, None\n",
    "        for f in featIdxs:\n",
    "            XCol = X[:, f]\n",
    "            thresholds = np.unique(XCol)\n",
    "            for t in thresholds:\n",
    "                gain = self.infoGain(XCol, y, t)\n",
    "                if gain > bestGain:\n",
    "                    bestGain = gain\n",
    "                    splitIdx = f\n",
    "                    splitThresh = t\n",
    "        return splitIdx, splitThresh, bestGain\n",
    "        \n",
    "    def growTree(self, featurelist, X, y, depth = 0):\n",
    "        sampleCount, featureCount2 = X.shape\n",
    "        labelCount = len(np.unique(y))\n",
    "        if (depth>=self.maxDepth or labelCount==1 or sampleCount<self.minSamplesSplit):\n",
    "            leafValue = self.mostCommonLabel(y)\n",
    "            onesCount = np.count_nonzero(y==1)\n",
    "            oneProb = onesCount/len(y)\n",
    "            probability = np.prod(y*oneProb+(1-y)*(1-oneProb))\n",
    "            return Node(featureName = featurelist, prob = probability, value=leafValue)\n",
    "        featureIdx = np.random.choice(featureCount2, self.featureCount, replace=False)\n",
    "        bestFeature, bestThreshold, bGain = self.bestSplit(X, y, featureIdx)\n",
    "        leftIdxs, rightIdxs = self.split(X[:,bestFeature], bestThreshold)\n",
    "        left = self.growTree(featurelist,X[leftIdxs, :], y[leftIdxs], depth+1)\n",
    "        right = self.growTree(featurelist,X[rightIdxs, :], y[rightIdxs], depth+1)\n",
    "        return Node(featureName = featurelist, feature = bestFeature, threshold = bestThreshold, left = left, right = right, gain = bGain, depth = depth)\n",
    "    \n",
    "    def predict(self, X):\n",
    "        predList = np.array([self.traverseTree(x, self.root) for x in X.values]).tolist()\n",
    "        winCount = predList.count(1)\n",
    "        self.root.report(' ', classVal = set(self.y))\n",
    "        return np.array([self.traverseTree(x, self.root) for x in X.values])\n",
    "    \n",
    "    def traverseTree(self, x, node):\n",
    "        if node.isLeafNode():\n",
    "            return node.value\n",
    "        if x[node.feature]<= node.threshold:\n",
    "            return self.traverseTree(x, node.left)\n",
    "        else: \n",
    "            return self.traverseTree(x, node.right)"
   ]
  },
  {
   "cell_type": "code",
   "execution_count": 66,
   "id": "03fe4a95",
   "metadata": {},
   "outputs": [],
   "source": [
    "model = DecisionTree(2, 10000000, None)\n",
    "\n",
    "def accuracyScore(predictions, yTest):\n",
    "    return np.sum(yTest == predictions)/len(yTest)\n",
    "\n",
    "model.fit(hepatitisTrainDataX, hepatitisTrainDataY)"
   ]
  },
  {
   "cell_type": "code",
   "execution_count": 67,
   "id": "1e30fb6e",
   "metadata": {
    "scrolled": false
   },
   "outputs": [
    {
     "name": "stdout",
     "output_type": "stream",
     "text": [
      " ASCITES = True\n",
      "\n",
      "     BIGLIVER = True\n",
      "\n",
      "         Class: live,  probability = 1.0\n",
      "     BIGLIVER = False\n",
      "\n",
      "         VARICES = True\n",
      "\n",
      "             Class: die, probability = 1.0\n",
      "         VARICES = False\n",
      "\n",
      "             FIRMLIVER = True\n",
      "\n",
      "                 Class: live,  probability = 1.0\n",
      "             FIRMLIVER = False\n",
      "\n",
      "                 STEROID = True\n",
      "\n",
      "                     BILIRUBIN = True\n",
      "\n",
      "                         Class: die, probability = 1.0\n",
      "                     BILIRUBIN = False\n",
      "\n",
      "                         Class: live,  probability = 1.0\n",
      "                 STEROID = False\n",
      "\n",
      "                     Class: die, probability = 1.0\n",
      " ASCITES = False\n",
      "\n",
      "     SPIDERS = True\n",
      "\n",
      "         FIRMLIVER = True\n",
      "\n",
      "             SGOT = True\n",
      "\n",
      "                 Class: live,  probability = 1.0\n",
      "             SGOT = False\n",
      "\n",
      "                 BIGLIVER = True\n",
      "\n",
      "                     Class: die, probability = 1.0\n",
      "                 BIGLIVER = False\n",
      "\n",
      "                     Class: live,  probability = 1.0\n",
      "         FIRMLIVER = False\n",
      "\n",
      "             ANOREXIA = True\n",
      "\n",
      "                 Class: live,  probability = 1.0\n",
      "             ANOREXIA = False\n",
      "\n",
      "                 SGOT = True\n",
      "\n",
      "                     Class: die, probability = 1.0\n",
      "                 SGOT = False\n",
      "\n",
      "                     Class: live,  probability = 1.0\n",
      "     SPIDERS = False\n",
      "\n",
      "         STEROID = True\n",
      "\n",
      "             VARICES = True\n",
      "\n",
      "                 Class: die, probability = 1.0\n",
      "             VARICES = False\n",
      "\n",
      "                 BIGLIVER = True\n",
      "\n",
      "                     Class: live,  probability = 1.0\n",
      "                 BIGLIVER = False\n",
      "\n",
      "                     SPLEENPALPABLE = True\n",
      "\n",
      "                         SGOT = True\n",
      "\n",
      "                             Class: live,  probability = 1.0\n",
      "                         SGOT = False\n",
      "\n",
      "                             Class: die, probability = 1.0\n",
      "                     SPLEENPALPABLE = False\n",
      "\n",
      "                         FIRMLIVER = True\n",
      "\n",
      "                             SGOT = True\n",
      "\n",
      "                                 FEMALE = True\n",
      "\n",
      "                                     ANOREXIA = True\n",
      "\n",
      "                                         Class: live,  probability = 1.0\n",
      "                                     ANOREXIA = False\n",
      "\n",
      "                                         Class: die, probability = 1.0\n",
      "                                 FEMALE = False\n",
      "\n",
      "                                     Class: live,  probability = 1.0\n",
      "                             SGOT = False\n",
      "\n",
      "                                 Class: live,  probability = 1.0\n",
      "                         FIRMLIVER = False\n",
      "\n",
      "                             Class: live,  probability = 1.0\n",
      "         STEROID = False\n",
      "\n",
      "             Class: live,  probability = 1.0\n"
     ]
    }
   ],
   "source": [
    "predictions = model.predict(hepatitisTestDataX)"
   ]
  },
  {
   "cell_type": "code",
   "execution_count": 15,
   "id": "22e76428",
   "metadata": {},
   "outputs": [
    {
     "data": {
      "text/plain": [
       "0.76"
      ]
     },
     "execution_count": 15,
     "metadata": {},
     "output_type": "execute_result"
    }
   ],
   "source": [
    "hepatitisTestY = hepatitisTestDataY.replace(list(set(hepatitisTestDataY))[1], 1)\n",
    "hepatitisTestY = hepatitisTestY.replace(list(set(hepatitisTestDataY))[0], 0)\n",
    "hepatitisTestY.astype('int32')\n",
    "accuracyScore(predictions, hepatitisTestY)"
   ]
  },
  {
   "cell_type": "code",
   "execution_count": 16,
   "id": "4ca7fb80",
   "metadata": {},
   "outputs": [
    {
     "data": {
      "text/plain": [
       "array([1, 0, 1, 0, 0, 0, 0, 0, 0, 0, 0, 0, 0, 0, 1, 0, 0, 0, 1, 0, 0, 1,\n",
       "       0, 0, 0])"
      ]
     },
     "execution_count": 16,
     "metadata": {},
     "output_type": "execute_result"
    }
   ],
   "source": [
    "predictions"
   ]
  },
  {
   "cell_type": "code",
   "execution_count": 17,
   "id": "c5c45b90",
   "metadata": {},
   "outputs": [],
   "source": [
    "from sklearn.tree import DecisionTreeClassifier"
   ]
  },
  {
   "cell_type": "code",
   "execution_count": 18,
   "id": "3d0204da",
   "metadata": {},
   "outputs": [],
   "source": [
    "baseline = DecisionTreeClassifier(random_state = 100)\n",
    "hepatitisTrainDataX = hepatitisTrainDataX.replace('false', 0)\n",
    "hepatitisTrainDataX = hepatitisTrainDataX.replace('true', 1)\n",
    "hepatitisTestDataX = hepatitisTestDataX.replace('true', 1)\n",
    "hepatitisTestDataX = hepatitisTestDataX.replace('false', 0)"
   ]
  },
  {
   "cell_type": "code",
   "execution_count": 19,
   "id": "2b7484eb",
   "metadata": {},
   "outputs": [
    {
     "data": {
      "text/plain": [
       "DecisionTreeClassifier(random_state=100)"
      ]
     },
     "execution_count": 19,
     "metadata": {},
     "output_type": "execute_result"
    }
   ],
   "source": [
    "baseline.fit(hepatitisTrainDataX, hepatitisTrainDataY.values)"
   ]
  },
  {
   "cell_type": "code",
   "execution_count": 20,
   "id": "c0cfa725",
   "metadata": {},
   "outputs": [],
   "source": [
    "basePredictions = baseline.predict(hepatitisTestDataX)"
   ]
  },
  {
   "cell_type": "code",
   "execution_count": 21,
   "id": "14b705eb",
   "metadata": {},
   "outputs": [
    {
     "data": {
      "text/plain": [
       "0.76"
      ]
     },
     "execution_count": 21,
     "metadata": {},
     "output_type": "execute_result"
    }
   ],
   "source": [
    "accuracyScore(basePredictions, hepatitisTestDataY.values)"
   ]
  },
  {
   "cell_type": "markdown",
   "id": "9cd2f079",
   "metadata": {},
   "source": [
    "Model tested on golf data:"
   ]
  },
  {
   "cell_type": "code",
   "execution_count": 69,
   "id": "227333d1",
   "metadata": {},
   "outputs": [],
   "source": [
    "model2 =  DecisionTree(2, 100, None)\n",
    "model2.fit(golfTrainDataX, golfTrainDataY)"
   ]
  },
  {
   "cell_type": "code",
   "execution_count": 70,
   "id": "f98b6f98",
   "metadata": {
    "scrolled": false
   },
   "outputs": [
    {
     "name": "stdout",
     "output_type": "stream",
     "text": [
      " Windy = True\n",
      "\n",
      "     Class: PlayGolf, probability = 1.0\n",
      " Windy = False\n",
      "\n",
      "     Hot = True\n",
      "\n",
      "         Raining = True\n",
      "\n",
      "             Class: PlayGolf, probability = 1.0\n",
      "         Raining = False\n",
      "\n",
      "             Class: StayHome,  probability = 1.0\n",
      "     Hot = False\n",
      "\n",
      "         Class: StayHome,  probability = 1.0\n"
     ]
    }
   ],
   "source": [
    "golfPreds = model2.predict(golfTestDataX)"
   ]
  },
  {
   "cell_type": "code",
   "execution_count": 71,
   "id": "394feb1d",
   "metadata": {},
   "outputs": [
    {
     "data": {
      "text/plain": [
       "0.8333333333333334"
      ]
     },
     "execution_count": 71,
     "metadata": {},
     "output_type": "execute_result"
    }
   ],
   "source": [
    "golfTestY = golfTestDataY.replace(list(set(golfTestDataY))[1], 1)\n",
    "golfTestY = golfTestY.replace(list(set(golfTestDataY))[0], 0)\n",
    "golfTestY.astype('int32')\n",
    "accuracyScore(golfPreds, golfTestY)"
   ]
  },
  {
   "cell_type": "markdown",
   "id": "fa9a97f4",
   "metadata": {},
   "source": [
    "There is no difference between the baseline classifier and my own decision tree classifier, since I used default parameters for my classifier that are identical to the baseline sklearn decision tree classifier, where minsamplesplit = 2, maxDepth = redundant number and featureCount is set to None. Note: information gain was used as my preferred method of impurity measurement, with the concept of entropy being used to facilitate that."
   ]
  },
  {
   "cell_type": "markdown",
   "id": "9a444481",
   "metadata": {},
   "source": [
    "b)"
   ]
  },
  {
   "cell_type": "markdown",
   "id": "fa38f27f",
   "metadata": {},
   "source": [
    "i)\n",
    "\n",
    "MinSampleSplit sets the threshold for the number of splits i.e the minimum number of samples present in a leaf node. Adjusting this particular criteria prunes a tree by removing leaf nodes with fewer samples than that threshold. "
   ]
  },
  {
   "cell_type": "markdown",
   "id": "adbfb8e5",
   "metadata": {},
   "source": [
    "ii) \n",
    "\n",
    "Pruning is a method that prevents overfitting the model with training data in order to allow for a better performance when testing on new unseen data. By reducing the number of branches i.e number of decisions made in the tree, the overall accuracy of the model drops during training but generalizes it better to predict new unseen data better. At the end a smaller and simpler tree is formed. "
   ]
  },
  {
   "cell_type": "markdown",
   "id": "72187483",
   "metadata": {},
   "source": [
    "iii)\n",
    "\n",
    "Assuming that both training and test sets were both randomized, the accuracy on the test set shouldn't drop, and as a matter of fact increase due to the model not being overfit on the training data. A generalised model is more likely to have a better performance on new unseen data."
   ]
  }
 ],
 "metadata": {
  "kernelspec": {
   "display_name": "Python 3",
   "language": "python",
   "name": "python3"
  },
  "language_info": {
   "codemirror_mode": {
    "name": "ipython",
    "version": 3
   },
   "file_extension": ".py",
   "mimetype": "text/x-python",
   "name": "python",
   "nbconvert_exporter": "python",
   "pygments_lexer": "ipython3",
   "version": "3.8.8"
  }
 },
 "nbformat": 4,
 "nbformat_minor": 5
}
