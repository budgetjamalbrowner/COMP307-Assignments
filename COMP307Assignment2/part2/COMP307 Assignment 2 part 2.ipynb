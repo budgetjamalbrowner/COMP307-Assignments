{
 "cells": [
  {
   "cell_type": "code",
   "execution_count": 1,
   "id": "9e131196",
   "metadata": {},
   "outputs": [],
   "source": [
    "import deap\n",
    "import random\n",
    "import numpy as np\n",
    "from deap import base\n",
    "from deap import creator\n",
    "from deap import algorithms\n",
    "from deap import tools\n",
    "from deap import gp\n",
    "import operator\n",
    "import math\n",
    "random.seed(3)"
   ]
  },
  {
   "cell_type": "code",
   "execution_count": 2,
   "id": "1b93ef59",
   "metadata": {},
   "outputs": [],
   "source": [
    "def protectedDiv(left, right):\n",
    "    try:\n",
    "        return left / right\n",
    "    except ZeroDivisionError:\n",
    "        return 1\n",
    "\n",
    "pset = gp.PrimitiveSet(\"MAIN\", 1)\n",
    "pset.addPrimitive(operator.add, 2)\n",
    "pset.addPrimitive(operator.sub, 2)\n",
    "pset.addPrimitive(operator.mul, 2)\n",
    "pset.addPrimitive(protectedDiv, 2)\n",
    "pset.addPrimitive(operator.neg, 1)\n",
    "pset.addPrimitive(math.cos, 1)\n",
    "pset.addPrimitive(math.sin, 1)\n",
    "pset.addEphemeralConstant(\"rand101\", lambda: random.randint(-1,1))"
   ]
  },
  {
   "cell_type": "code",
   "execution_count": 3,
   "id": "802cd608",
   "metadata": {},
   "outputs": [],
   "source": [
    "pset.renameArguments(ARG0='x')"
   ]
  },
  {
   "cell_type": "code",
   "execution_count": 4,
   "id": "13d36360",
   "metadata": {},
   "outputs": [],
   "source": [
    "creator.create(\"FitnessMin\", base.Fitness, weights=(-1.0,))\n",
    "creator.create(\"Individual\", gp.PrimitiveTree, fitness=creator.FitnessMin)"
   ]
  },
  {
   "cell_type": "code",
   "execution_count": 5,
   "id": "f40aa15d",
   "metadata": {},
   "outputs": [],
   "source": [
    "toolbox = base.Toolbox()\n",
    "toolbox.register(\"expr\", gp.genHalfAndHalf, pset=pset, min_=1, max_=2)\n",
    "toolbox.register(\"individual\", tools.initIterate, creator.Individual, toolbox.expr)\n",
    "toolbox.register(\"population\", tools.initRepeat, list, toolbox.individual)\n",
    "toolbox.register(\"compile\", gp.compile, pset=pset)\n",
    "\n",
    "def evalSymbReg(individual, points):\n",
    "    # Transform the tree expression in a callable function\n",
    "    func = toolbox.compile(expr=individual)\n",
    "    # Evaluate the mean squared error between the expression\n",
    "    # and the real function : x**4 + x**3 + x**2 + x\n",
    "    sqerrors = ((func(x) - y)**2 for x, y in points)\n",
    "    return math.fsum(sqerrors) / len(points),\n",
    "\n",
    "toolbox.register(\"evaluate\", evalSymbReg, points=[(-2.00,37.00000),\n",
    " (-1.75,24.16016),\n",
    " (-1.50,15.06250),\n",
    " (-1.25, 8.91016),\n",
    " (-1.00, 5.00000),\n",
    " (-0.75, 2.72266),\n",
    " (-0.50, 1.56250),\n",
    " (-0.25, 1.09766),\n",
    " ( 0.00, 1.00000),\n",
    " ( 0.25, 1.03516),\n",
    " ( 0.50, 1.06250),\n",
    " ( 0.75, 1.03516),\n",
    " ( 1.00, 1.00000),\n",
    " ( 1.25, 1.09766),\n",
    " ( 1.50, 1.56250),\n",
    " ( 1.75, 2.72266),\n",
    " ( 2.00, 5.00000),\n",
    " ( 2.25, 8.91016),\n",
    " ( 2.50,15.06250),\n",
    " ( 2.75,24.16016)])\n",
    "toolbox.register(\"select\", tools.selTournament, tournsize=3)\n",
    "toolbox.register(\"mate\", gp.cxOnePoint)\n",
    "toolbox.register(\"expr_mut\", gp.genFull, min_=0, max_=2)\n",
    "toolbox.register(\"mutate\", gp.mutUniform, expr=toolbox.expr_mut, pset=pset)\n",
    "toolbox.decorate(\"mate\", gp.staticLimit(key=operator.attrgetter(\"height\"), max_value=17))\n",
    "toolbox.decorate(\"mutate\", gp.staticLimit(key=operator.attrgetter(\"height\"), max_value=17))"
   ]
  },
  {
   "cell_type": "code",
   "execution_count": 6,
   "id": "5ffb268e",
   "metadata": {},
   "outputs": [
    {
     "name": "stdout",
     "output_type": "stream",
     "text": [
      "   \t      \t                    fitness                    \t                     size                     \n",
      "   \t      \t-----------------------------------------------\t----------------------------------------------\n",
      "gen\tnevals\tavg    \tgen\tmax    \tmin    \tnevals\tstd    \tavg  \tgen\tmax\tmin\tnevals\tstd   \n",
      "0  \t500   \t161.061\t0  \t252.831\t59.7201\t500   \t17.6029\t3.646\t0  \t7  \t2  \t500   \t1.5168\n",
      "1  \t270   \t151.387\t1  \t234.262\t59.7201\t270   \t19.818 \t3.814\t1  \t10 \t1  \t270   \t1.72841\n",
      "2  \t279   \t145.017\t2  \t232.991\t59.7201\t279   \t22.5181\t4.156\t2  \t15 \t1  \t279   \t1.90464\n",
      "3  \t264   \t137.92 \t3  \t352.039\t59.7201\t264   \t28.7806\t4.534\t3  \t15 \t1  \t264   \t2.06709\n",
      "4  \t291   \t123.94 \t4  \t650.343\t27.9965\t291   \t39.2251\t4.8  \t4  \t12 \t1  \t291   \t1.92977\n",
      "5  \t239   \t105.294\t5  \t326.248\t27.9965\t239   \t34.4416\t4.99 \t5  \t13 \t1  \t239   \t1.86277\n",
      "6  \t270   \t93.3748\t6  \t674.021\t13.7879\t270   \t52.5488\t5.888\t6  \t14 \t1  \t270   \t2.04143\n",
      "7  \t277   \t79.8637\t7  \t981.22 \t13.7879\t277   \t54.3208\t6.822\t7  \t15 \t1  \t277   \t2.23927\n",
      "8  \t299   \t69.182 \t8  \t659.851\t13.7879\t299   \t46.1284\t7.762\t8  \t19 \t1  \t299   \t2.17287\n",
      "9  \t294   \t72.0253\t9  \t1228.37\t11.6965\t294   \t88.386 \t8.634\t9  \t19 \t1  \t294   \t2.54245\n",
      "10 \t308   \t74.1261\t10 \t2701.13\t11.6965\t308   \t144.618\t9.6  \t10 \t21 \t1  \t308   \t2.79786\n",
      "11 \t271   \t66.3893\t11 \t1583.84\t11.6965\t271   \t131.601\t10.34\t11 \t23 \t3  \t271   \t2.75543\n",
      "12 \t280   \t65.7671\t12 \t2272.01\t11.6965\t280   \t156.711\t10.974\t12 \t27 \t1  \t280   \t3.01949\n",
      "13 \t283   \t81.7297\t13 \t4526.17\t11.6965\t283   \t321.213\t11.808\t13 \t21 \t1  \t283   \t2.92355\n",
      "14 \t248   \t69.0202\t14 \t6159.07\t11.6965\t248   \t320.457\t12.164\t14 \t23 \t1  \t248   \t2.79734\n",
      "15 \t267   \t128.637\t15 \t6827.25\t11.6965\t267   \t546.627\t12.66 \t15 \t25 \t1  \t267   \t3.07708\n",
      "16 \t271   \t81.6347\t16 \t4526.17\t11.6965\t271   \t338.737\t12.714\t16 \t23 \t1  \t271   \t3.18688\n",
      "17 \t286   \t98.7355\t17 \t4526.17\t10.0523\t286   \t393.243\t13.02 \t17 \t25 \t1  \t286   \t2.91266\n",
      "18 \t279   \t166.822\t18 \t6827.25\t10.0523\t279   \t660.116\t13.124\t18 \t25 \t1  \t279   \t3.46246\n",
      "19 \t270   \t122.938\t19 \t6827.25\t9.25381\t270   \t565.002\t13.286\t19 \t24 \t2  \t270   \t3.09066\n",
      "20 \t261   \t128.367\t20 \t6827.25\t10.0523\t261   \t541.049\t13.102\t20 \t28 \t1  \t261   \t3.15968\n",
      "21 \t262   \t159.317\t21 \t6827.25\t10.0523\t262   \t647.477\t13.302\t21 \t23 \t1  \t262   \t3.14878\n",
      "22 \t287   \t146.968\t22 \t12609.2\t10.0523\t287   \t737.093\t13.378\t22 \t26 \t1  \t287   \t3.27278\n",
      "23 \t246   \t76.9914\t23 \t4526.17\t10.0523\t246   \t307.559\t13.624\t23 \t28 \t1  \t246   \t3.66642\n",
      "24 \t290   \t117.708\t24 \t10216.9\t9.06028\t290   \t670.921\t14.326\t24 \t33 \t1  \t290   \t4.28436\n",
      "25 \t282   \t127.659\t25 \t4526.17\t7.98454\t282   \t532.469\t15.328\t25 \t30 \t3  \t282   \t4.8757 \n",
      "26 \t281   \t105.903\t26 \t4526.17\t7.91449\t281   \t446.834\t16.132\t26 \t36 \t1  \t281   \t5.01743\n",
      "27 \t296   \t60.951 \t27 \t4526.17\t8.72131\t296   \t261.426\t17.614\t27 \t38 \t1  \t296   \t5.77209\n",
      "28 \t263   \t70.0683\t28 \t6827.25\t8.72131\t263   \t445.659\t18.698\t28 \t39 \t1  \t263   \t5.3765 \n",
      "29 \t277   \t52.0908\t29 \t4157.46\t7.91449\t277   \t245.074\t19.854\t29 \t44 \t3  \t277   \t6.09825\n",
      "30 \t263   \t56.541 \t30 \t3341.99\t6.57761\t263   \t256.185\t20.724\t30 \t48 \t1  \t263   \t6.99627\n",
      "31 \t268   \t53.4319\t31 \t2864.28\t6.57761\t268   \t204.785\t21.492\t31 \t51 \t5  \t268   \t6.94017\n",
      "32 \t308   \t49.3298\t32 \t4112.68\t5.17476\t308   \t224.52 \t22.098\t32 \t54 \t3  \t308   \t6.98029\n",
      "33 \t277   \t56.6216\t33 \t5766.4 \t3.98727\t277   \t336.7  \t22.602\t33 \t60 \t1  \t277   \t7.6168 \n",
      "34 \t261   \t57.3605\t34 \t4077.3 \t3.98727\t261   \t294.272\t23.82 \t34 \t58 \t2  \t261   \t7.6451 \n",
      "35 \t279   \t45.8658\t35 \t4707.35\t3.98727\t279   \t247.94 \t25.478\t35 \t61 \t1  \t279   \t8.12192\n",
      "36 \t285   \t30.7874\t36 \t1099.7 \t2.26715\t285   \t88.476 \t27.43 \t36 \t70 \t1  \t285   \t9.49995\n",
      "37 \t284   \t42.834 \t37 \t3536.59\t2.26715\t284   \t209.635\t29.874\t37 \t70 \t1  \t284   \t10.5858\n",
      "38 \t282   \t34.9193\t38 \t2802.6 \t2.26715\t282   \t156.11 \t32.696\t38 \t87 \t1  \t282   \t11.7386\n",
      "39 \t263   \t35.5529\t39 \t4056.63\t2.0943 \t263   \t215.073\t34.572\t39 \t81 \t3  \t263   \t11.6307\n",
      "40 \t270   \t26.5092\t40 \t5116.81\t1.7033 \t270   \t231.213\t38.356\t40 \t79 \t5  \t270   \t11.815 \n"
     ]
    }
   ],
   "source": [
    "stats_fit = tools.Statistics(lambda ind: ind.fitness.values)\n",
    "stats_size = tools.Statistics(len)\n",
    "mstats = tools.MultiStatistics(fitness=stats_fit, size=stats_size)\n",
    "mstats.register(\"avg\", np.mean)\n",
    "mstats.register(\"std\", np.std)\n",
    "mstats.register(\"min\", np.min)\n",
    "mstats.register(\"max\", np.max)\n",
    "pop = toolbox.population(n=500)\n",
    "hof = tools.HallOfFame(1)\n",
    "pop, log = algorithms.eaSimple(pop, toolbox, 0.5, 0.1, 40, stats=mstats,\n",
    "                       halloffame=hof, verbose=True)"
   ]
  },
  {
   "cell_type": "code",
   "execution_count": 7,
   "id": "a27ffadd",
   "metadata": {},
   "outputs": [
    {
     "data": {
      "image/png": "[encoded data removed]",
      "text/plain": [
       "<Figure size 432x288 with 1 Axes>"
      ]
     },
     "metadata": {
      "needs_background": "light"
     },
     "output_type": "display_data"
    }
   ],
   "source": [
    "best_individual = tools.selBest(pop, k=1)[0]\n",
    "expr = best_individual\n",
    "best_program = toolbox.compile(expr=best_individual)\n",
    "nodes, edges, labels = gp.graph(expr)\n",
    "import matplotlib.pyplot as plt\n",
    "plt.plot([-2.0, -1.75, -1.50, -1.25, -1.00, -0.75, -0.50, -0.25, 0.00, 0.25, \n",
    "         0.50, 0.75, 1.00, 1.25, 1.50, 1.75, 2.00, 2.25, 2.50, 2.75], [37.0000, \n",
    "        24.1602 ,15.0625, 8.9102, 5.0000, 2.7227, 1.5625, 1.0977, 1.0000, 1.0352,\n",
    "        1.0625, 1.0352, 1.0000, 1.0977, 1.5625, 2.7227, 5.0000, 8.9102, 15.0625, 24.1602])\n",
    "plt.scatter([-2.0, -1.75, -1.50, -1.25, -1.00, -0.75, -0.50, -0.25, 0.00, 0.25, \n",
    "         0.50, 0.75, 1.00, 1.25, 1.50, 1.75, 2.00, 2.25, 2.50, 2.75], [best_program(-2.0), \n",
    "        best_program(-1.75), best_program(-1.50), best_program(-1.25), best_program(-1.00), \n",
    "        best_program(-0.75), best_program(-0.50), best_program(-0.25), best_program(0.00), \n",
    "        best_program(0.25), best_program(0.50), best_program(0.75), best_program(1.00), \n",
    "        best_program(1.25), best_program(1.50), best_program(1.75), best_program(2.00), \n",
    "        best_program(2.25), best_program(2.50), best_program(2.75)])\n",
    "plt.legend(['Original Data', 'Evolved Function'])\n",
    "plt.show()"
   ]
  },
  {
   "cell_type": "code",
   "execution_count": 8,
   "id": "84852165",
   "metadata": {},
   "outputs": [],
   "source": [
    "import pygraphviz as pgv\n",
    "g = pgv.AGraph()\n",
    "g.add_nodes_from(nodes)\n",
    "g.add_edges_from(edges)\n",
    "g.layout(prog=\"dot\")\n",
    "\n",
    "for i in nodes:\n",
    "    n = g.get_node(i)\n",
    "    n.attr[\"label\"] = labels[i]\n",
    "\n",
    "g.draw(\"tree3.pdf\")"
   ]
  },
  {
   "cell_type": "code",
   "execution_count": 9,
   "id": "192052fd",
   "metadata": {},
   "outputs": [
    {
     "name": "stdout",
     "output_type": "stream",
     "text": [
      "(1.703299185511669,)\n"
     ]
    }
   ],
   "source": [
    "print(str(expr.fitness))"
   ]
  },
  {
   "cell_type": "code",
   "execution_count": 11,
   "id": "71a29b5c",
   "metadata": {},
   "outputs": [
    {
     "name": "stdout",
     "output_type": "stream",
     "text": [
      "mul(add(-1, x), add(add(add(sub(add(-1, x), sin(x)), sub(sub(add(-1, x), sin(add(add(sub(-1, sin(x)), x), x))), sin(x))), add(x, add(sub(sub(0, sin(add(add(sin(sin(0)), x), x))), sin(x)), x))), x))\n"
     ]
    }
   ],
   "source": [
    "print(str(best_individual))"
   ]
  },
  {
   "cell_type": "code",
   "execution_count": null,
   "id": "5e6cdfeb",
   "metadata": {},
   "outputs": [],
   "source": []
  }
 ],
 "metadata": {
  "kernelspec": {
   "display_name": "Python 3",
   "language": "python",
   "name": "python3"
  },
  "language_info": {
   "codemirror_mode": {
    "name": "ipython",
    "version": 3
   },
   "file_extension": ".py",
   "mimetype": "text/x-python",
   "name": "python",
   "nbconvert_exporter": "python",
   "pygments_lexer": "ipython3",
   "version": "3.8.8"
  }
 },
 "nbformat": 4,
 "nbformat_minor": 5
}
