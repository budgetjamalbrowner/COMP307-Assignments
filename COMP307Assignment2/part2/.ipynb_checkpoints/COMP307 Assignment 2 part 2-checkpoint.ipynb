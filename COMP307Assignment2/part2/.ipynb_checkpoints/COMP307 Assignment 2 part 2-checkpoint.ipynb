{
 "cells": [
  {
   "cell_type": "code",
   "execution_count": 1,
   "id": "9e131196",
   "metadata": {},
   "outputs": [],
   "source": [
    "import deap\n",
    "import random\n",
    "import numpy as np\n",
    "from deap import base\n",
    "from deap import creator\n",
    "from deap import algorithms\n",
    "from deap import tools\n",
    "from deap import gp\n",
    "import operator\n",
    "import math\n",
    "random.seed(1000)"
   ]
  },
  {
   "cell_type": "code",
   "execution_count": 2,
   "id": "1b93ef59",
   "metadata": {},
   "outputs": [],
   "source": [
    "def protectedDiv(left, right):\n",
    "    try:\n",
    "        return left / right\n",
    "    except ZeroDivisionError:\n",
    "        return 1\n",
    "\n",
    "pset = gp.PrimitiveSet(\"MAIN\", 1)\n",
    "pset.addPrimitive(operator.add, 2)\n",
    "pset.addPrimitive(operator.sub, 2)\n",
    "pset.addPrimitive(operator.mul, 2)\n",
    "pset.addPrimitive(protectedDiv, 2)\n",
    "pset.addPrimitive(operator.neg, 1)\n",
    "pset.addPrimitive(math.cos, 1)\n",
    "pset.addPrimitive(math.sin, 1)\n",
    "pset.addEphemeralConstant(\"rand101\", lambda: random.randint(-1,1))"
   ]
  },
  {
   "cell_type": "code",
   "execution_count": 3,
   "id": "802cd608",
   "metadata": {},
   "outputs": [],
   "source": [
    "pset.renameArguments(ARG0='x')"
   ]
  },
  {
   "cell_type": "code",
   "execution_count": 4,
   "id": "13d36360",
   "metadata": {},
   "outputs": [],
   "source": [
    "creator.create(\"FitnessMin\", base.Fitness, weights=(-1.0,))\n",
    "creator.create(\"Individual\", gp.PrimitiveTree, fitness=creator.FitnessMin)"
   ]
  },
  {
   "cell_type": "code",
   "execution_count": 5,
   "id": "f40aa15d",
   "metadata": {},
   "outputs": [],
   "source": [
    "toolbox = base.Toolbox()\n",
    "toolbox.register(\"expr\", gp.genHalfAndHalf, pset=pset, min_=1, max_=2)\n",
    "toolbox.register(\"individual\", tools.initIterate, creator.Individual, toolbox.expr)\n",
    "toolbox.register(\"population\", tools.initRepeat, list, toolbox.individual)\n",
    "toolbox.register(\"compile\", gp.compile, pset=pset)\n",
    "\n",
    "def evalSymbReg(individual, points):\n",
    "    # Transform the tree expression in a callable function\n",
    "    func = toolbox.compile(expr=individual)\n",
    "    # Evaluate the mean squared error between the expression\n",
    "    # and the real function : x**4 + x**3 + x**2 + x\n",
    "    sqerrors = ((func(x) - y)**2 for x, y in points)\n",
    "    return math.fsum(sqerrors) / len(points),\n",
    "\n",
    "toolbox.register(\"evaluate\", evalSymbReg, points=[(-2.00,37.00000),\n",
    " (-1.75,24.16016),\n",
    " (-1.50,15.06250),\n",
    " (-1.25, 8.91016),\n",
    " (-1.00, 5.00000),\n",
    " (-0.75, 2.72266),\n",
    " (-0.50, 1.56250),\n",
    " (-0.25, 1.09766),\n",
    " ( 0.00, 1.00000),\n",
    " ( 0.25, 1.03516),\n",
    " ( 0.50, 1.06250),\n",
    " ( 0.75, 1.03516),\n",
    " ( 1.00, 1.00000),\n",
    " ( 1.25, 1.09766),\n",
    " ( 1.50, 1.56250),\n",
    " ( 1.75, 2.72266),\n",
    " ( 2.00, 5.00000),\n",
    " ( 2.25, 8.91016),\n",
    " ( 2.50,15.06250),\n",
    " ( 2.75,24.16016)])\n",
    "toolbox.register(\"select\", tools.selTournament, tournsize=3)\n",
    "toolbox.register(\"mate\", gp.cxOnePoint)\n",
    "toolbox.register(\"expr_mut\", gp.genFull, min_=0, max_=2)\n",
    "toolbox.register(\"mutate\", gp.mutUniform, expr=toolbox.expr_mut, pset=pset)\n",
    "toolbox.decorate(\"mate\", gp.staticLimit(key=operator.attrgetter(\"height\"), max_value=17))\n",
    "toolbox.decorate(\"mutate\", gp.staticLimit(key=operator.attrgetter(\"height\"), max_value=17))"
   ]
  },
  {
   "cell_type": "code",
   "execution_count": 6,
   "id": "61531b8f",
   "metadata": {},
   "outputs": [
    {
     "name": "stdout",
     "output_type": "stream",
     "text": [
      "   \t      \t                    fitness                    \t                      size                     \n",
      "   \t      \t-----------------------------------------------\t-----------------------------------------------\n",
      "gen\tnevals\tavg    \tgen\tmax    \tmin    \tnevals\tstd    \tavg  \tgen\tmax\tmin\tnevals\tstd    \n",
      "0  \t500   \t161.003\t0  \t262.427\t72.5537\t500   \t15.9025\t3.688\t0  \t7  \t2  \t500   \t1.52796\n",
      "1  \t258   \t151.737\t1  \t247.824\t72.5537\t258   \t18.6129\t3.928\t1  \t11 \t1  \t258   \t1.70611\n",
      "2  \t260   \t144.642\t2  \t239.97 \t72.5537\t260   \t20.0351\t4.482\t2  \t16 \t1  \t260   \t1.96206\n",
      "3  \t275   \t140.86 \t3  \t234.262\t59.7201\t275   \t25.9047\t4.898\t3  \t16 \t1  \t275   \t2.05027\n",
      "4  \t275   \t132.846\t4  \t650.604\t59.7201\t275   \t37.9437\t5.248\t4  \t11 \t1  \t275   \t1.82825\n",
      "5  \t268   \t124.006\t5  \t650.604\t56.7337\t268   \t44.5955\t5.496\t5  \t13 \t1  \t268   \t1.86815\n",
      "6  \t272   \t108.417\t6  \t367.924\t29.7958\t272   \t41.6484\t5.596\t6  \t15 \t1  \t272   \t1.89335\n",
      "7  \t283   \t97.5692\t7  \t285.684\t25.0876\t283   \t40.0201\t5.838\t7  \t15 \t1  \t283   \t2.03857\n",
      "8  \t278   \t88.224 \t8  \t529.265\t12.4235\t278   \t50.0915\t6.636\t8  \t17 \t2  \t278   \t2.33227\n",
      "9  \t249   \t75.0576\t9  \t678.317\t12.4235\t249   \t55.2575\t7.486\t9  \t18 \t1  \t249   \t2.42854\n",
      "10 \t265   \t68.8356\t10 \t1763.98\t11.6965\t265   \t89.6736\t8.578\t10 \t21 \t1  \t265   \t2.46006\n",
      "11 \t297   \t69.9043\t11 \t1352.12\t11.6965\t297   \t108.725\t9.546\t11 \t19 \t1  \t297   \t2.88165\n",
      "12 \t275   \t54.2703\t12 \t771.217\t11.6965\t275   \t67.6921\t10.498\t12 \t22 \t1  \t275   \t3.0348 \n",
      "13 \t291   \t60.1169\t13 \t4526.17\t11.6965\t291   \t218.103\t11.404\t13 \t25 \t1  \t291   \t3.298  \n",
      "14 \t260   \t71.0461\t14 \t3977.52\t9.25381\t260   \t231.806\t12.448\t14 \t27 \t1  \t260   \t3.45359\n",
      "15 \t292   \t71.2647\t15 \t3539.81\t9.25381\t292   \t212.534\t12.968\t15 \t27 \t1  \t292   \t3.4576 \n",
      "16 \t267   \t67.9442\t16 \t2701.13\t9.25381\t267   \t206.666\t13.21 \t16 \t27 \t1  \t267   \t3.22706\n",
      "17 \t256   \t112.891\t17 \t6827.25\t9.25381\t256   \t499.711\t13.324\t17 \t27 \t1  \t256   \t3.25623\n",
      "18 \t274   \t137.231\t18 \t6827.25\t9.25381\t274   \t564.952\t13.218\t18 \t27 \t1  \t274   \t3.50178\n",
      "19 \t242   \t102.932\t19 \t3977.52\t9.25381\t242   \t400.437\t13.306\t19 \t27 \t1  \t242   \t3.05293\n",
      "20 \t291   \t122.417\t20 \t6827.25\t9.25381\t291   \t553.544\t13.436\t20 \t29 \t1  \t291   \t3.45397\n",
      "21 \t249   \t131.999\t21 \t6827.25\t9.25381\t249   \t655.683\t13.772\t21 \t26 \t1  \t249   \t3.36155\n",
      "22 \t263   \t116.112\t22 \t6827.25\t9.06028\t263   \t524.816\t14.532\t22 \t32 \t3  \t263   \t4.22054\n",
      "23 \t227   \t60.208 \t23 \t2988.55\t8.72131\t227   \t230.579\t15.76 \t23 \t33 \t1  \t227   \t4.47687\n",
      "24 \t283   \t58.4402\t24 \t5246.98\t8.72131\t283   \t261.859\t16.832\t24 \t33 \t2  \t283   \t4.7837 \n",
      "25 \t305   \t95.5943\t25 \t5682.26\t8.27236\t305   \t421.783\t17.67 \t25 \t37 \t3  \t305   \t5.61472\n",
      "26 \t248   \t82.3984\t26 \t5371.71\t8.27236\t248   \t387.88 \t18.21 \t26 \t39 \t2  \t248   \t5.39944\n",
      "27 \t307   \t73.4546\t27 \t2548.57\t8.27236\t307   \t211.96 \t18.356\t27 \t39 \t1  \t307   \t5.93778\n",
      "28 \t265   \t90.013 \t28 \t10367.5\t8.27236\t265   \t543.612\t18.766\t28 \t47 \t1  \t265   \t5.5479 \n",
      "29 \t270   \t58.0938\t29 \t3506.7 \t6.46962\t270   \t237.567\t18.786\t29 \t38 \t1  \t270   \t5.11861\n",
      "30 \t282   \t56.2153\t30 \t2548.57\t4.86604\t282   \t208.587\t19.244\t30 \t38 \t1  \t282   \t5.59039\n",
      "31 \t286   \t58.4644\t31 \t2548.57\t3.51683\t286   \t201.702\t20.188\t31 \t46 \t1  \t286   \t6.2007 \n",
      "32 \t265   \t50.1189\t32 \t3445.21\t4.86604\t265   \t180.844\t21.302\t32 \t44 \t2  \t265   \t6.931  \n",
      "33 \t248   \t43.0233\t33 \t2548.57\t4.80986\t248   \t143.684\t22.522\t33 \t46 \t1  \t248   \t7.51116\n",
      "34 \t287   \t48.0067\t34 \t2319.74\t3.51683\t287   \t177.717\t24.712\t34 \t60 \t1  \t287   \t7.85144\n",
      "35 \t287   \t63.2858\t35 \t10215.8\t3.51683\t287   \t478.104\t26.524\t35 \t58 \t1  \t287   \t8.69928\n",
      "36 \t285   \t49.5379\t36 \t6223.38\t3.51683\t285   \t297.618\t28.354\t36 \t62 \t1  \t285   \t9.10937\n",
      "37 \t267   \t24.1243\t37 \t570.035\t3.51683\t267   \t57.4119\t29.964\t37 \t62 \t3  \t267   \t8.82126\n",
      "38 \t276   \t45.2182\t38 \t3080.76\t3.51683\t276   \t240.878\t30.802\t38 \t60 \t4  \t276   \t9.18035\n",
      "39 \t257   \t44.2919\t39 \t2825.19\t2.46221\t257   \t220.135\t31.092\t39 \t75 \t2  \t257   \t9.51712\n",
      "40 \t248   \t24.8197\t40 \t1159.5 \t1.93438\t248   \t101.662\t31.072\t40 \t70 \t5  \t248   \t9.37394\n"
     ]
    }
   ],
   "source": [
    "stats_fit = tools.Statistics(lambda ind: ind.fitness.values)\n",
    "stats_size = tools.Statistics(len)\n",
    "mstats = tools.MultiStatistics(fitness=stats_fit, size=stats_size)\n",
    "mstats.register(\"avg\", np.mean)\n",
    "mstats.register(\"std\", np.std)\n",
    "mstats.register(\"min\", np.min)\n",
    "mstats.register(\"max\", np.max)\n",
    "pop = toolbox.population(n=500)\n",
    "hof = tools.HallOfFame(1)\n",
    "pop, log = algorithms.eaSimple(pop, toolbox, 0.5, 0.1, 40, stats=mstats,\n",
    "                       halloffame=hof, verbose=True)"
   ]
  },
  {
   "cell_type": "code",
   "execution_count": 7,
   "id": "d2eb8118",
   "metadata": {},
   "outputs": [
    {
     "data": {
      "image/png": "[encoded data removed]",
      "text/plain": [
       "<Figure size 432x288 with 1 Axes>"
      ]
     },
     "metadata": {
      "needs_background": "light"
     },
     "output_type": "display_data"
    }
   ],
   "source": [
    "best_individual = tools.selBest(pop, k=1)[0]\n",
    "expr = best_individual\n",
    "best_program = toolbox.compile(expr=best_individual)\n",
    "nodes, edges, labels = gp.graph(expr)\n",
    "import matplotlib.pyplot as plt\n",
    "plt.plot([-2.0, -1.75, -1.50, -1.25, -1.00, -0.75, -0.50, -0.25, 0.00, 0.25, \n",
    "         0.50, 0.75, 1.00, 1.25, 1.50, 1.75, 2.00, 2.25, 2.50, 2.75], [37.0000, \n",
    "        24.1602 ,15.0625, 8.9102, 5.0000, 2.7227, 1.5625, 1.0977, 1.0000, 1.0352,\n",
    "        1.0625, 1.0352, 1.0000, 1.0977, 1.5625, 2.7227, 5.0000, 8.9102, 15.0625, 24.1602])\n",
    "plt.scatter([-2.0, -1.75, -1.50, -1.25, -1.00, -0.75, -0.50, -0.25, 0.00, 0.25, \n",
    "         0.50, 0.75, 1.00, 1.25, 1.50, 1.75, 2.00, 2.25, 2.50, 2.75], [best_program(-2.0), \n",
    "        best_program(-1.75), best_program(-1.50), best_program(-1.25), best_program(-1.00), \n",
    "        best_program(-0.75), best_program(-0.50), best_program(-0.25), best_program(0.00), \n",
    "        best_program(0.25), best_program(0.50), best_program(0.75), best_program(1.00), \n",
    "        best_program(1.25), best_program(1.50), best_program(1.75), best_program(2.00), \n",
    "        best_program(2.25), best_program(2.50), best_program(2.75)])\n",
    "plt.legend(['Original Data', 'Evolved Function'])\n",
    "plt.show()"
   ]
  },
  {
   "cell_type": "code",
   "execution_count": 8,
   "id": "84852165",
   "metadata": {},
   "outputs": [],
   "source": [
    "import pygraphviz as pgv\n",
    "g = pgv.AGraph()\n",
    "g.add_nodes_from(nodes)\n",
    "g.add_edges_from(edges)\n",
    "g.layout(prog=\"dot\")\n",
    "\n",
    "for i in nodes:\n",
    "    n = g.get_node(i)\n",
    "    n.attr[\"label\"] = labels[i]\n",
    "\n",
    "g.draw(\"tree3.pdf\")"
   ]
  },
  {
   "cell_type": "code",
   "execution_count": 10,
   "id": "192052fd",
   "metadata": {},
   "outputs": [
    {
     "name": "stdout",
     "output_type": "stream",
     "text": [
      "(1.9343821314591108,)\n"
     ]
    }
   ],
   "source": [
    "print(str(expr.fitness))"
   ]
  },
  {
   "cell_type": "code",
   "execution_count": null,
   "id": "b519b63b",
   "metadata": {},
   "outputs": [],
   "source": []
  }
 ],
 "metadata": {
  "kernelspec": {
   "display_name": "Python 3",
   "language": "python",
   "name": "python3"
  },
  "language_info": {
   "codemirror_mode": {
    "name": "ipython",
    "version": 3
   },
   "file_extension": ".py",
   "mimetype": "text/x-python",
   "name": "python",
   "nbconvert_exporter": "python",
   "pygments_lexer": "ipython3",
   "version": "3.8.8"
  }
 },
 "nbformat": 4,
 "nbformat_minor": 5
}
